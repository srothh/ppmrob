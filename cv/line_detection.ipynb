{
 "cells": [
  {
   "cell_type": "code",
   "execution_count": 40,
   "id": "5f19bbd3-65f9-477b-9bc6-2fba2ae15ed3",
   "metadata": {},
   "outputs": [],
   "source": [
    "import cv2\n",
    "import numpy as np"
   ]
  },
  {
   "cell_type": "code",
   "execution_count": 41,
   "id": "64ca7a4c-5dcd-47c8-9774-1039fa26d13f",
   "metadata": {},
   "outputs": [],
   "source": [
    "# Reading the required image in\n",
    "# which operations are to be done.\n",
    "# Make sure that the image is in the same\n",
    "# directory in which this python program is\n",
    "image  = cv2.imread(\"path\")"
   ]
  },
  {
   "cell_type": "code",
   "execution_count": 42,
   "id": "8924e45f-e689-4e3b-adf0-d45d76624fa1",
   "metadata": {},
   "outputs": [],
   "source": [
    "# Define the range of beige color in HSV - preferred for color-based segmentation\n",
    "lower_beige = np.array([0, 10, 180])\n",
    "upper_beige = np.array([40, 150, 255])"
   ]
  },
  {
   "cell_type": "code",
   "execution_count": 43,
   "id": "79934f14-e44e-4b9c-a970-bd80518be2de",
   "metadata": {},
   "outputs": [],
   "source": [
    "# Convert image to HSV color space\n",
    "hsv = cv2.cvtColor(image, cv2.COLOR_BGR2HSV)"
   ]
  },
  {
   "cell_type": "code",
   "execution_count": 44,
   "id": "6bda1bd4-38e9-4612-b791-128e53249369",
   "metadata": {},
   "outputs": [],
   "source": [
    "# Create a binary mask to isolate beige regions\n",
    "mask = cv2.inRange(hsv, lower_beige, upper_beige)\n",
    "# cv2.namedWindow('mask', cv2.WINDOW_NORMAL)\n",
    "# cv2.imshow('mask', mask)\n",
    "# cv2.waitKey(0)\n",
    "# cv2.destroyAllWindows()"
   ]
  },
  {
   "cell_type": "code",
   "execution_count": 34,
   "id": "62fd0d08-678b-4452-a8a9-91355b97b050",
   "metadata": {},
   "outputs": [],
   "source": [
    "# Perform morphological operations to remove noise\n",
    "kernel = np.ones((5, 5), np.uint8)\n",
    "mask = cv2.morphologyEx(mask, cv2.MORPH_OPEN, kernel, iterations=2)\n",
    "mask = cv2.morphologyEx(mask, cv2.MORPH_CLOSE, kernel, iterations=3)"
   ]
  },
  {
   "cell_type": "code",
   "execution_count": 7,
   "id": "26413c91-a11b-495e-9a07-661abe4ffdd1",
   "metadata": {},
   "outputs": [],
   "source": [
    "# Find contours in the binary mask\n",
    "contours, _ = cv2.findContours(mask, cv2.RETR_EXTERNAL, cv2.CHAIN_APPROX_SIMPLE)"
   ]
  },
  {
   "cell_type": "code",
   "execution_count": 8,
   "id": "a428cda0-a498-43bb-8c36-8cd15f6a7f68",
   "metadata": {},
   "outputs": [],
   "source": [
    "# Filter contours based on area\n",
    "min_contour_area = 4000  # Adjust as needed\n",
    "min_aspect_ratio = 0.5  # Adjust as needed\n",
    "filtered_contours = [cnt for cnt in contours if cv2.contourArea(cnt) > min_contour_area]"
   ]
  },
  {
   "cell_type": "code",
   "execution_count": 9,
   "id": "bfe6bec1-46f5-468a-86cf-40f210d84c87",
   "metadata": {},
   "outputs": [
    {
     "data": {
      "text/plain": [
       "array([[[ 95, 123, 134],\n",
       "        [ 91, 119, 130],\n",
       "        [105, 133, 144],\n",
       "        ...,\n",
       "        [ 51,  76,  80],\n",
       "        [ 44,  69,  73],\n",
       "        [ 36,  61,  65]],\n",
       "\n",
       "       [[ 96, 124, 135],\n",
       "        [ 99, 127, 138],\n",
       "        [ 96, 124, 135],\n",
       "        ...,\n",
       "        [ 54,  79,  83],\n",
       "        [ 40,  65,  69],\n",
       "        [ 37,  62,  66]],\n",
       "\n",
       "       [[107, 135, 146],\n",
       "        [106, 134, 145],\n",
       "        [ 88, 116, 127],\n",
       "        ...,\n",
       "        [ 40,  65,  69],\n",
       "        [ 43,  68,  72],\n",
       "        [ 36,  61,  65]],\n",
       "\n",
       "       ...,\n",
       "\n",
       "       [[ 56,  66,  73],\n",
       "        [ 64,  74,  81],\n",
       "        [ 67,  77,  84],\n",
       "        ...,\n",
       "        [ 65,  67,  68],\n",
       "        [ 64,  66,  67],\n",
       "        [ 63,  65,  66]],\n",
       "\n",
       "       [[ 52,  62,  69],\n",
       "        [ 61,  71,  78],\n",
       "        [ 62,  72,  79],\n",
       "        ...,\n",
       "        [ 61,  63,  64],\n",
       "        [ 57,  59,  60],\n",
       "        [ 62,  64,  65]],\n",
       "\n",
       "       [[ 48,  58,  65],\n",
       "        [ 58,  68,  75],\n",
       "        [ 56,  66,  73],\n",
       "        ...,\n",
       "        [ 54,  56,  57],\n",
       "        [ 52,  54,  55],\n",
       "        [ 62,  64,  65]]], dtype=uint8)"
      ]
     },
     "execution_count": 9,
     "metadata": {},
     "output_type": "execute_result"
    }
   ],
   "source": [
    "# Draw contours on the original image\n",
    "cv2.drawContours(image, filtered_contours, -1, (0, 0, 255), 2)"
   ]
  },
  {
   "cell_type": "code",
   "execution_count": 10,
   "id": "3e5cf053-6989-49e9-b72b-331072715067",
   "metadata": {},
   "outputs": [
    {
     "data": {
      "text/plain": [
       "True"
      ]
     },
     "execution_count": 10,
     "metadata": {},
     "output_type": "execute_result"
    }
   ],
   "source": [
    "# All the changes made in the input image are finally\n",
    "# written on a new image houghlines.jpg\n",
    "cv2.imwrite(\"path\", image)"
   ]
  }
 ],
 "metadata": {
  "kernelspec": {
   "display_name": "Python 3 (ipykernel)",
   "language": "python",
   "name": "python3"
  },
  "language_info": {
   "codemirror_mode": {
    "name": "ipython",
    "version": 3
   },
   "file_extension": ".py",
   "mimetype": "text/x-python",
   "name": "python",
   "nbconvert_exporter": "python",
   "pygments_lexer": "ipython3",
   "version": "3.11.5"
  }
 },
 "nbformat": 4,
 "nbformat_minor": 5
}
