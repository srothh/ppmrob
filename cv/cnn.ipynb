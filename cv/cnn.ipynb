{
 "cells": [
  {
   "cell_type": "code",
   "execution_count": 3,
   "id": "initial_id",
   "metadata": {
    "collapsed": true,
    "ExecuteTime": {
     "end_time": "2024-02-05T16:07:07.744118600Z",
     "start_time": "2024-02-05T16:07:05.856385500Z"
    }
   },
   "outputs": [],
   "source": [
    "import torch\n",
    "import torchvision\n",
    "import torchvision.transforms as transform\n",
    "import matplotlib.pyplot as plt\n",
    "from torch.utils.data import Dataset\n",
    "from torch.utils.data import DataLoader\n",
    "from torchvision.datasets import ImageFolder\n"
   ]
  },
  {
   "cell_type": "code",
   "outputs": [
    {
     "data": {
      "text/plain": "True"
     },
     "execution_count": 4,
     "metadata": {},
     "output_type": "execute_result"
    }
   ],
   "source": [
    "torch.cuda.is_available()"
   ],
   "metadata": {
    "collapsed": false,
    "ExecuteTime": {
     "end_time": "2024-02-05T16:07:07.852118300Z",
     "start_time": "2024-02-05T16:07:07.844121300Z"
    }
   },
   "id": "e0056f016dbd1df8",
   "execution_count": 4
  },
  {
   "cell_type": "markdown",
   "source": [
    "# Section 1 - Prepare data"
   ],
   "metadata": {
    "collapsed": false
   },
   "id": "7eeab916d55c87e4"
  },
  {
   "cell_type": "markdown",
   "source": [
    "Data is loaded from a video and split into frames"
   ],
   "metadata": {
    "collapsed": false
   },
   "id": "b214a1d20ede5f9a"
  },
  {
   "cell_type": "code",
   "outputs": [],
   "source": [
    "from torchvision.transforms import Compose, Resize, ToTensor, RandomHorizontalFlip, RandomVerticalFlip, RandomRotation, ColorJitter\n",
    "from torchvision.datasets import ImageFolder\n",
    "from torch.utils.data import DataLoader\n",
    "\n",
    "# Define the transformations\n",
    "transformation = Compose([\n",
    "    Resize((64, 64)),\n",
    "    RandomHorizontalFlip(),\n",
    "    RandomVerticalFlip(),\n",
    "    RandomRotation(30),\n",
    "    ColorJitter(brightness=0.1, contrast=0.1, saturation=0.1, hue=0.1),\n",
    "    ToTensor()\n",
    "])"
   ],
   "metadata": {
    "collapsed": false,
    "ExecuteTime": {
     "end_time": "2024-02-05T16:07:07.922038200Z",
     "start_time": "2024-02-05T16:07:07.849121600Z"
    }
   },
   "id": "890ca8e113a4470f",
   "execution_count": 5
  },
  {
   "cell_type": "code",
   "outputs": [
    {
     "data": {
      "text/plain": "<Figure size 640x480 with 1 Axes>",
      "image/png": "[encoded data removed]"
     },
     "metadata": {},
     "output_type": "display_data"
    }
   ],
   "source": [
    "data_dir = \"./dataset\"\n",
    "dataset = ImageFolder(root=data_dir, transform=transformation)\n",
    "data_loader = DataLoader(dataset, batch_size=32, shuffle=True)\n",
    "img, l = None, None\n",
    "for images, labels in data_loader:\n",
    "    img, l = images[0], labels[0]\n",
    "    break\n",
    "img_test = img.permute(1, 2, 0).numpy()\n",
    "plt.imshow(img_test)\n",
    "plt.title(f\"Label: {l}\")\n",
    "plt.show()\n"
   ],
   "metadata": {
    "collapsed": false,
    "ExecuteTime": {
     "end_time": "2024-02-05T16:07:08.699791Z",
     "start_time": "2024-02-05T16:07:07.924186300Z"
    }
   },
   "id": "151530569521fd6d",
   "execution_count": 6
  },
  {
   "cell_type": "markdown",
   "source": [],
   "metadata": {
    "collapsed": false
   },
   "id": "ef73a014c644bac6"
  },
  {
   "cell_type": "code",
   "outputs": [
    {
     "data": {
      "text/plain": "torch.Size([3, 64, 64])"
     },
     "execution_count": 7,
     "metadata": {},
     "output_type": "execute_result"
    }
   ],
   "source": [
    "img.shape"
   ],
   "metadata": {
    "collapsed": false,
    "ExecuteTime": {
     "end_time": "2024-02-05T16:07:08.708792200Z",
     "start_time": "2024-02-05T16:07:08.703791Z"
    }
   },
   "id": "d22a13f8b90b0ed9",
   "execution_count": 7
  },
  {
   "cell_type": "code",
   "outputs": [],
   "source": [
    "# HYPERPARAMETERS\n",
    "test_len = 0.3\n",
    "batch_size = 128\n",
    "kernel_size = 3\n",
    "stride = 1\n",
    "padding = 1"
   ],
   "metadata": {
    "collapsed": false,
    "ExecuteTime": {
     "end_time": "2024-02-05T16:07:08.716793800Z",
     "start_time": "2024-02-05T16:07:08.705791400Z"
    }
   },
   "id": "681f023702adb483",
   "execution_count": 8
  },
  {
   "cell_type": "code",
   "outputs": [],
   "source": [
    "from torch.utils.data import random_split\n",
    "\n",
    "train_size = int((1-test_len) * len(dataset))\n",
    "test_size = int(test_len * len(dataset))\n",
    "extra = len(dataset) - (train_size + test_size)\n",
    "train_size = train_size + extra if extra > 0 else train_size\n",
    "train_dataset, test_dataset = random_split(dataset, [train_size, test_size])\n",
    "train_dataloader = DataLoader(train_dataset, batch_size=32, shuffle=True)\n",
    "test_dataloader = DataLoader(test_dataset, batch_size=32, shuffle=False) # no need to shuffle test data\n",
    "device = \"cuda\" if torch.cuda.is_available() else \"cpu\""
   ],
   "metadata": {
    "collapsed": false,
    "ExecuteTime": {
     "end_time": "2024-02-05T16:07:08.735790400Z",
     "start_time": "2024-02-05T16:07:08.715792500Z"
    }
   },
   "id": "9b8b8b6afcd68890",
   "execution_count": 9
  },
  {
   "cell_type": "code",
   "outputs": [],
   "source": [
    "# Define NN\n",
    "from torch import nn\n",
    "\n",
    "class VictimCNNModelV0(nn.Module):\n",
    "    def __init__(self, input_channels, hidden_units, output_size):\n",
    "        super().__init__()\n",
    "        self.conv1 = nn.Sequential(\n",
    "            nn.Conv2d(\n",
    "                in_channels=input_channels,\n",
    "                out_channels=hidden_units,\n",
    "                kernel_size=kernel_size,\n",
    "                stride=stride,\n",
    "                padding=padding),\n",
    "            nn.BatchNorm2d(hidden_units),\n",
    "            nn.ReLU(),\n",
    "            nn.Conv2d(\n",
    "                in_channels=hidden_units,\n",
    "                out_channels=hidden_units,\n",
    "                kernel_size=kernel_size,\n",
    "                stride=stride,\n",
    "                padding=padding),\n",
    "            nn.BatchNorm2d(hidden_units),\n",
    "            nn.ReLU(),\n",
    "            nn.MaxPool2d(kernel_size=2)\n",
    "        )\n",
    "        self.conv2 = nn.Sequential(\n",
    "            nn.Conv2d(\n",
    "                in_channels=hidden_units,\n",
    "                out_channels=hidden_units,\n",
    "                kernel_size=kernel_size,\n",
    "                stride=stride,\n",
    "                padding=padding),\n",
    "            nn.BatchNorm2d(hidden_units),\n",
    "            nn.ReLU(),\n",
    "            nn.Conv2d(\n",
    "                in_channels=hidden_units,\n",
    "                out_channels=hidden_units,\n",
    "                kernel_size=kernel_size,\n",
    "                stride=stride,\n",
    "                padding=padding),\n",
    "            nn.BatchNorm2d(hidden_units),\n",
    "            nn.ReLU(),\n",
    "            nn.MaxPool2d(kernel_size=2)\n",
    "        )\n",
    "        self.classifier = nn.Sequential(\n",
    "            nn.Flatten(),\n",
    "            nn.Linear(\n",
    "                in_features=hidden_units*16*16,\n",
    "                out_features=output_size)\n",
    "        )\n",
    "    def forward(self, x):\n",
    "        x = self.conv1(x)\n",
    "        x = self.conv2(x)\n",
    "        x = self.classifier(x)\n",
    "        return x"
   ],
   "metadata": {
    "collapsed": false,
    "ExecuteTime": {
     "end_time": "2024-02-05T16:07:08.772790Z",
     "start_time": "2024-02-05T16:07:08.726794800Z"
    }
   },
   "id": "64af8d04e2dc80af",
   "execution_count": 10
  },
  {
   "cell_type": "code",
   "outputs": [
    {
     "data": {
      "text/plain": "'cuda'"
     },
     "execution_count": 11,
     "metadata": {},
     "output_type": "execute_result"
    }
   ],
   "source": [
    "device"
   ],
   "metadata": {
    "collapsed": false,
    "ExecuteTime": {
     "end_time": "2024-02-05T16:07:08.773795400Z",
     "start_time": "2024-02-05T16:07:08.735790400Z"
    }
   },
   "id": "4e1f82ff1a54fe04",
   "execution_count": 11
  },
  {
   "cell_type": "code",
   "outputs": [],
   "source": [
    "model = VictimCNNModelV0(3, 32, 1).to(device)"
   ],
   "metadata": {
    "collapsed": false,
    "ExecuteTime": {
     "end_time": "2024-02-05T16:07:08.950793200Z",
     "start_time": "2024-02-05T16:07:08.747791300Z"
    }
   },
   "id": "f997ae76db52b39b",
   "execution_count": 12
  },
  {
   "cell_type": "code",
   "outputs": [
    {
     "ename": "KeyboardInterrupt",
     "evalue": "",
     "output_type": "error",
     "traceback": [
      "\u001B[0;31m---------------------------------------------------------------------------\u001B[0m",
      "\u001B[0;31mKeyboardInterrupt\u001B[0m                         Traceback (most recent call last)",
      "Cell \u001B[0;32mIn[13], line 1\u001B[0m\n\u001B[0;32m----> 1\u001B[0m model\u001B[38;5;241m.\u001B[39mstate_dict()\n",
      "File \u001B[0;32m~/anaconda3/envs/dl/lib/python3.9/site-packages/IPython/core/displayhook.py:268\u001B[0m, in \u001B[0;36mDisplayHook.__call__\u001B[0;34m(self, result)\u001B[0m\n\u001B[1;32m    266\u001B[0m \u001B[38;5;28mself\u001B[39m\u001B[38;5;241m.\u001B[39mstart_displayhook()\n\u001B[1;32m    267\u001B[0m \u001B[38;5;28mself\u001B[39m\u001B[38;5;241m.\u001B[39mwrite_output_prompt()\n\u001B[0;32m--> 268\u001B[0m format_dict, md_dict \u001B[38;5;241m=\u001B[39m \u001B[38;5;28;43mself\u001B[39;49m\u001B[38;5;241;43m.\u001B[39;49m\u001B[43mcompute_format_data\u001B[49m\u001B[43m(\u001B[49m\u001B[43mresult\u001B[49m\u001B[43m)\u001B[49m\n\u001B[1;32m    269\u001B[0m \u001B[38;5;28mself\u001B[39m\u001B[38;5;241m.\u001B[39mupdate_user_ns(result)\n\u001B[1;32m    270\u001B[0m \u001B[38;5;28mself\u001B[39m\u001B[38;5;241m.\u001B[39mfill_exec_result(result)\n",
      "File \u001B[0;32m~/anaconda3/envs/dl/lib/python3.9/site-packages/IPython/core/displayhook.py:157\u001B[0m, in \u001B[0;36mDisplayHook.compute_format_data\u001B[0;34m(self, result)\u001B[0m\n\u001B[1;32m    127\u001B[0m \u001B[38;5;28;01mdef\u001B[39;00m \u001B[38;5;21mcompute_format_data\u001B[39m(\u001B[38;5;28mself\u001B[39m, result):\n\u001B[1;32m    128\u001B[0m \u001B[38;5;250m    \u001B[39m\u001B[38;5;124;03m\"\"\"Compute format data of the object to be displayed.\u001B[39;00m\n\u001B[1;32m    129\u001B[0m \n\u001B[1;32m    130\u001B[0m \u001B[38;5;124;03m    The format data is a generalization of the :func:`repr` of an object.\u001B[39;00m\n\u001B[0;32m   (...)\u001B[0m\n\u001B[1;32m    155\u001B[0m \n\u001B[1;32m    156\u001B[0m \u001B[38;5;124;03m    \"\"\"\u001B[39;00m\n\u001B[0;32m--> 157\u001B[0m     \u001B[38;5;28;01mreturn\u001B[39;00m \u001B[38;5;28;43mself\u001B[39;49m\u001B[38;5;241;43m.\u001B[39;49m\u001B[43mshell\u001B[49m\u001B[38;5;241;43m.\u001B[39;49m\u001B[43mdisplay_formatter\u001B[49m\u001B[38;5;241;43m.\u001B[39;49m\u001B[43mformat\u001B[49m\u001B[43m(\u001B[49m\u001B[43mresult\u001B[49m\u001B[43m)\u001B[49m\n",
      "File \u001B[0;32m~/anaconda3/envs/dl/lib/python3.9/site-packages/IPython/core/formatters.py:179\u001B[0m, in \u001B[0;36mDisplayFormatter.format\u001B[0;34m(self, obj, include, exclude)\u001B[0m\n\u001B[1;32m    177\u001B[0m md \u001B[38;5;241m=\u001B[39m \u001B[38;5;28;01mNone\u001B[39;00m\n\u001B[1;32m    178\u001B[0m \u001B[38;5;28;01mtry\u001B[39;00m:\n\u001B[0;32m--> 179\u001B[0m     data \u001B[38;5;241m=\u001B[39m \u001B[43mformatter\u001B[49m\u001B[43m(\u001B[49m\u001B[43mobj\u001B[49m\u001B[43m)\u001B[49m\n\u001B[1;32m    180\u001B[0m \u001B[38;5;28;01mexcept\u001B[39;00m:\n\u001B[1;32m    181\u001B[0m     \u001B[38;5;66;03m# FIXME: log the exception\u001B[39;00m\n\u001B[1;32m    182\u001B[0m     \u001B[38;5;28;01mraise\u001B[39;00m\n",
      "File \u001B[0;32m~/anaconda3/envs/dl/lib/python3.9/site-packages/decorator.py:232\u001B[0m, in \u001B[0;36mdecorate.<locals>.fun\u001B[0;34m(*args, **kw)\u001B[0m\n\u001B[1;32m    230\u001B[0m \u001B[38;5;28;01mif\u001B[39;00m \u001B[38;5;129;01mnot\u001B[39;00m kwsyntax:\n\u001B[1;32m    231\u001B[0m     args, kw \u001B[38;5;241m=\u001B[39m fix(args, kw, sig)\n\u001B[0;32m--> 232\u001B[0m \u001B[38;5;28;01mreturn\u001B[39;00m \u001B[43mcaller\u001B[49m\u001B[43m(\u001B[49m\u001B[43mfunc\u001B[49m\u001B[43m,\u001B[49m\u001B[43m \u001B[49m\u001B[38;5;241;43m*\u001B[39;49m\u001B[43m(\u001B[49m\u001B[43mextras\u001B[49m\u001B[43m \u001B[49m\u001B[38;5;241;43m+\u001B[39;49m\u001B[43m \u001B[49m\u001B[43margs\u001B[49m\u001B[43m)\u001B[49m\u001B[43m,\u001B[49m\u001B[43m \u001B[49m\u001B[38;5;241;43m*\u001B[39;49m\u001B[38;5;241;43m*\u001B[39;49m\u001B[43mkw\u001B[49m\u001B[43m)\u001B[49m\n",
      "File \u001B[0;32m~/anaconda3/envs/dl/lib/python3.9/site-packages/IPython/core/formatters.py:223\u001B[0m, in \u001B[0;36mcatch_format_error\u001B[0;34m(method, self, *args, **kwargs)\u001B[0m\n\u001B[1;32m    221\u001B[0m \u001B[38;5;250m\u001B[39m\u001B[38;5;124;03m\"\"\"show traceback on failed format call\"\"\"\u001B[39;00m\n\u001B[1;32m    222\u001B[0m \u001B[38;5;28;01mtry\u001B[39;00m:\n\u001B[0;32m--> 223\u001B[0m     r \u001B[38;5;241m=\u001B[39m \u001B[43mmethod\u001B[49m\u001B[43m(\u001B[49m\u001B[38;5;28;43mself\u001B[39;49m\u001B[43m,\u001B[49m\u001B[43m \u001B[49m\u001B[38;5;241;43m*\u001B[39;49m\u001B[43margs\u001B[49m\u001B[43m,\u001B[49m\u001B[43m \u001B[49m\u001B[38;5;241;43m*\u001B[39;49m\u001B[38;5;241;43m*\u001B[39;49m\u001B[43mkwargs\u001B[49m\u001B[43m)\u001B[49m\n\u001B[1;32m    224\u001B[0m \u001B[38;5;28;01mexcept\u001B[39;00m \u001B[38;5;167;01mNotImplementedError\u001B[39;00m:\n\u001B[1;32m    225\u001B[0m     \u001B[38;5;66;03m# don't warn on NotImplementedErrors\u001B[39;00m\n\u001B[1;32m    226\u001B[0m     \u001B[38;5;28;01mreturn\u001B[39;00m \u001B[38;5;28mself\u001B[39m\u001B[38;5;241m.\u001B[39m_check_return(\u001B[38;5;28;01mNone\u001B[39;00m, args[\u001B[38;5;241m0\u001B[39m])\n",
      "File \u001B[0;32m~/anaconda3/envs/dl/lib/python3.9/site-packages/IPython/core/formatters.py:708\u001B[0m, in \u001B[0;36mPlainTextFormatter.__call__\u001B[0;34m(self, obj)\u001B[0m\n\u001B[1;32m    701\u001B[0m stream \u001B[38;5;241m=\u001B[39m StringIO()\n\u001B[1;32m    702\u001B[0m printer \u001B[38;5;241m=\u001B[39m pretty\u001B[38;5;241m.\u001B[39mRepresentationPrinter(stream, \u001B[38;5;28mself\u001B[39m\u001B[38;5;241m.\u001B[39mverbose,\n\u001B[1;32m    703\u001B[0m     \u001B[38;5;28mself\u001B[39m\u001B[38;5;241m.\u001B[39mmax_width, \u001B[38;5;28mself\u001B[39m\u001B[38;5;241m.\u001B[39mnewline,\n\u001B[1;32m    704\u001B[0m     max_seq_length\u001B[38;5;241m=\u001B[39m\u001B[38;5;28mself\u001B[39m\u001B[38;5;241m.\u001B[39mmax_seq_length,\n\u001B[1;32m    705\u001B[0m     singleton_pprinters\u001B[38;5;241m=\u001B[39m\u001B[38;5;28mself\u001B[39m\u001B[38;5;241m.\u001B[39msingleton_printers,\n\u001B[1;32m    706\u001B[0m     type_pprinters\u001B[38;5;241m=\u001B[39m\u001B[38;5;28mself\u001B[39m\u001B[38;5;241m.\u001B[39mtype_printers,\n\u001B[1;32m    707\u001B[0m     deferred_pprinters\u001B[38;5;241m=\u001B[39m\u001B[38;5;28mself\u001B[39m\u001B[38;5;241m.\u001B[39mdeferred_printers)\n\u001B[0;32m--> 708\u001B[0m \u001B[43mprinter\u001B[49m\u001B[38;5;241;43m.\u001B[39;49m\u001B[43mpretty\u001B[49m\u001B[43m(\u001B[49m\u001B[43mobj\u001B[49m\u001B[43m)\u001B[49m\n\u001B[1;32m    709\u001B[0m printer\u001B[38;5;241m.\u001B[39mflush()\n\u001B[1;32m    710\u001B[0m \u001B[38;5;28;01mreturn\u001B[39;00m stream\u001B[38;5;241m.\u001B[39mgetvalue()\n",
      "File \u001B[0;32m~/anaconda3/envs/dl/lib/python3.9/site-packages/IPython/lib/pretty.py:398\u001B[0m, in \u001B[0;36mRepresentationPrinter.pretty\u001B[0;34m(self, obj)\u001B[0m\n\u001B[1;32m    396\u001B[0m printer \u001B[38;5;241m=\u001B[39m \u001B[38;5;28mself\u001B[39m\u001B[38;5;241m.\u001B[39m_in_deferred_types(\u001B[38;5;28mcls\u001B[39m)\n\u001B[1;32m    397\u001B[0m \u001B[38;5;28;01mif\u001B[39;00m printer \u001B[38;5;129;01mis\u001B[39;00m \u001B[38;5;129;01mnot\u001B[39;00m \u001B[38;5;28;01mNone\u001B[39;00m:\n\u001B[0;32m--> 398\u001B[0m     \u001B[38;5;28;01mreturn\u001B[39;00m \u001B[43mprinter\u001B[49m\u001B[43m(\u001B[49m\u001B[43mobj\u001B[49m\u001B[43m,\u001B[49m\u001B[43m \u001B[49m\u001B[38;5;28;43mself\u001B[39;49m\u001B[43m,\u001B[49m\u001B[43m \u001B[49m\u001B[43mcycle\u001B[49m\u001B[43m)\u001B[49m\n\u001B[1;32m    399\u001B[0m \u001B[38;5;28;01melse\u001B[39;00m:\n\u001B[1;32m    400\u001B[0m     \u001B[38;5;66;03m# Finally look for special method names.\u001B[39;00m\n\u001B[1;32m    401\u001B[0m     \u001B[38;5;66;03m# Some objects automatically create any requested\u001B[39;00m\n\u001B[1;32m    402\u001B[0m     \u001B[38;5;66;03m# attribute. Try to ignore most of them by checking for\u001B[39;00m\n\u001B[1;32m    403\u001B[0m     \u001B[38;5;66;03m# callability.\u001B[39;00m\n\u001B[1;32m    404\u001B[0m     \u001B[38;5;28;01mif\u001B[39;00m \u001B[38;5;124m'\u001B[39m\u001B[38;5;124m_repr_pretty_\u001B[39m\u001B[38;5;124m'\u001B[39m \u001B[38;5;129;01min\u001B[39;00m \u001B[38;5;28mcls\u001B[39m\u001B[38;5;241m.\u001B[39m\u001B[38;5;18m__dict__\u001B[39m:\n",
      "File \u001B[0;32m~/anaconda3/envs/dl/lib/python3.9/site-packages/IPython/lib/pretty.py:894\u001B[0m, in \u001B[0;36m_ordereddict_pprint\u001B[0;34m(obj, p, cycle)\u001B[0m\n\u001B[1;32m    892\u001B[0m     p\u001B[38;5;241m.\u001B[39mpretty(cls_ctor(RawText(\u001B[38;5;124m\"\u001B[39m\u001B[38;5;124m...\u001B[39m\u001B[38;5;124m\"\u001B[39m)))\n\u001B[1;32m    893\u001B[0m \u001B[38;5;28;01melif\u001B[39;00m \u001B[38;5;28mlen\u001B[39m(obj):\n\u001B[0;32m--> 894\u001B[0m     \u001B[43mp\u001B[49m\u001B[38;5;241;43m.\u001B[39;49m\u001B[43mpretty\u001B[49m\u001B[43m(\u001B[49m\u001B[43mcls_ctor\u001B[49m\u001B[43m(\u001B[49m\u001B[38;5;28;43mlist\u001B[39;49m\u001B[43m(\u001B[49m\u001B[43mobj\u001B[49m\u001B[38;5;241;43m.\u001B[39;49m\u001B[43mitems\u001B[49m\u001B[43m(\u001B[49m\u001B[43m)\u001B[49m\u001B[43m)\u001B[49m\u001B[43m)\u001B[49m\u001B[43m)\u001B[49m\n\u001B[1;32m    895\u001B[0m \u001B[38;5;28;01melse\u001B[39;00m:\n\u001B[1;32m    896\u001B[0m     p\u001B[38;5;241m.\u001B[39mpretty(cls_ctor())\n",
      "File \u001B[0;32m~/anaconda3/envs/dl/lib/python3.9/site-packages/IPython/lib/pretty.py:407\u001B[0m, in \u001B[0;36mRepresentationPrinter.pretty\u001B[0;34m(self, obj)\u001B[0m\n\u001B[1;32m    405\u001B[0m     meth \u001B[38;5;241m=\u001B[39m \u001B[38;5;28mcls\u001B[39m\u001B[38;5;241m.\u001B[39m_repr_pretty_\n\u001B[1;32m    406\u001B[0m     \u001B[38;5;28;01mif\u001B[39;00m \u001B[38;5;28mcallable\u001B[39m(meth):\n\u001B[0;32m--> 407\u001B[0m         \u001B[38;5;28;01mreturn\u001B[39;00m \u001B[43mmeth\u001B[49m\u001B[43m(\u001B[49m\u001B[43mobj\u001B[49m\u001B[43m,\u001B[49m\u001B[43m \u001B[49m\u001B[38;5;28;43mself\u001B[39;49m\u001B[43m,\u001B[49m\u001B[43m \u001B[49m\u001B[43mcycle\u001B[49m\u001B[43m)\u001B[49m\n\u001B[1;32m    408\u001B[0m \u001B[38;5;28;01mif\u001B[39;00m \u001B[38;5;28mcls\u001B[39m \u001B[38;5;129;01mis\u001B[39;00m \u001B[38;5;129;01mnot\u001B[39;00m \u001B[38;5;28mobject\u001B[39m \\\n\u001B[1;32m    409\u001B[0m         \u001B[38;5;129;01mand\u001B[39;00m \u001B[38;5;28mcallable\u001B[39m(\u001B[38;5;28mcls\u001B[39m\u001B[38;5;241m.\u001B[39m\u001B[38;5;18m__dict__\u001B[39m\u001B[38;5;241m.\u001B[39mget(\u001B[38;5;124m'\u001B[39m\u001B[38;5;124m__repr__\u001B[39m\u001B[38;5;124m'\u001B[39m)):\n\u001B[1;32m    410\u001B[0m     \u001B[38;5;28;01mreturn\u001B[39;00m _repr_pprint(obj, \u001B[38;5;28mself\u001B[39m, cycle)\n",
      "File \u001B[0;32m~/anaconda3/envs/dl/lib/python3.9/site-packages/IPython/lib/pretty.py:564\u001B[0m, in \u001B[0;36mCallExpression._repr_pretty_\u001B[0;34m(self, p, cycle)\u001B[0m\n\u001B[1;32m    562\u001B[0m \u001B[38;5;28;01mfor\u001B[39;00m arg \u001B[38;5;129;01min\u001B[39;00m \u001B[38;5;28mself\u001B[39m\u001B[38;5;241m.\u001B[39margs:\n\u001B[1;32m    563\u001B[0m     new_item()\n\u001B[0;32m--> 564\u001B[0m     \u001B[43mp\u001B[49m\u001B[38;5;241;43m.\u001B[39;49m\u001B[43mpretty\u001B[49m\u001B[43m(\u001B[49m\u001B[43marg\u001B[49m\u001B[43m)\u001B[49m\n\u001B[1;32m    565\u001B[0m \u001B[38;5;28;01mfor\u001B[39;00m arg_name, arg \u001B[38;5;129;01min\u001B[39;00m \u001B[38;5;28mself\u001B[39m\u001B[38;5;241m.\u001B[39mkwargs\u001B[38;5;241m.\u001B[39mitems():\n\u001B[1;32m    566\u001B[0m     new_item()\n",
      "File \u001B[0;32m~/anaconda3/envs/dl/lib/python3.9/site-packages/IPython/lib/pretty.py:393\u001B[0m, in \u001B[0;36mRepresentationPrinter.pretty\u001B[0;34m(self, obj)\u001B[0m\n\u001B[1;32m    390\u001B[0m \u001B[38;5;28;01mfor\u001B[39;00m \u001B[38;5;28mcls\u001B[39m \u001B[38;5;129;01min\u001B[39;00m _get_mro(obj_class):\n\u001B[1;32m    391\u001B[0m     \u001B[38;5;28;01mif\u001B[39;00m \u001B[38;5;28mcls\u001B[39m \u001B[38;5;129;01min\u001B[39;00m \u001B[38;5;28mself\u001B[39m\u001B[38;5;241m.\u001B[39mtype_pprinters:\n\u001B[1;32m    392\u001B[0m         \u001B[38;5;66;03m# printer registered in self.type_pprinters\u001B[39;00m\n\u001B[0;32m--> 393\u001B[0m         \u001B[38;5;28;01mreturn\u001B[39;00m \u001B[38;5;28;43mself\u001B[39;49m\u001B[38;5;241;43m.\u001B[39;49m\u001B[43mtype_pprinters\u001B[49m\u001B[43m[\u001B[49m\u001B[38;5;28;43mcls\u001B[39;49m\u001B[43m]\u001B[49m\u001B[43m(\u001B[49m\u001B[43mobj\u001B[49m\u001B[43m,\u001B[49m\u001B[43m \u001B[49m\u001B[38;5;28;43mself\u001B[39;49m\u001B[43m,\u001B[49m\u001B[43m \u001B[49m\u001B[43mcycle\u001B[49m\u001B[43m)\u001B[49m\n\u001B[1;32m    394\u001B[0m     \u001B[38;5;28;01melse\u001B[39;00m:\n\u001B[1;32m    395\u001B[0m         \u001B[38;5;66;03m# deferred printer\u001B[39;00m\n\u001B[1;32m    396\u001B[0m         printer \u001B[38;5;241m=\u001B[39m \u001B[38;5;28mself\u001B[39m\u001B[38;5;241m.\u001B[39m_in_deferred_types(\u001B[38;5;28mcls\u001B[39m)\n",
      "File \u001B[0;32m~/anaconda3/envs/dl/lib/python3.9/site-packages/IPython/lib/pretty.py:640\u001B[0m, in \u001B[0;36m_seq_pprinter_factory.<locals>.inner\u001B[0;34m(obj, p, cycle)\u001B[0m\n\u001B[1;32m    638\u001B[0m         p\u001B[38;5;241m.\u001B[39mtext(\u001B[38;5;124m'\u001B[39m\u001B[38;5;124m,\u001B[39m\u001B[38;5;124m'\u001B[39m)\n\u001B[1;32m    639\u001B[0m         p\u001B[38;5;241m.\u001B[39mbreakable()\n\u001B[0;32m--> 640\u001B[0m     \u001B[43mp\u001B[49m\u001B[38;5;241;43m.\u001B[39;49m\u001B[43mpretty\u001B[49m\u001B[43m(\u001B[49m\u001B[43mx\u001B[49m\u001B[43m)\u001B[49m\n\u001B[1;32m    641\u001B[0m \u001B[38;5;28;01mif\u001B[39;00m \u001B[38;5;28mlen\u001B[39m(obj) \u001B[38;5;241m==\u001B[39m \u001B[38;5;241m1\u001B[39m \u001B[38;5;129;01mand\u001B[39;00m \u001B[38;5;28misinstance\u001B[39m(obj, \u001B[38;5;28mtuple\u001B[39m):\n\u001B[1;32m    642\u001B[0m     \u001B[38;5;66;03m# Special case for 1-item tuples.\u001B[39;00m\n\u001B[1;32m    643\u001B[0m     p\u001B[38;5;241m.\u001B[39mtext(\u001B[38;5;124m'\u001B[39m\u001B[38;5;124m,\u001B[39m\u001B[38;5;124m'\u001B[39m)\n",
      "File \u001B[0;32m~/anaconda3/envs/dl/lib/python3.9/site-packages/IPython/lib/pretty.py:393\u001B[0m, in \u001B[0;36mRepresentationPrinter.pretty\u001B[0;34m(self, obj)\u001B[0m\n\u001B[1;32m    390\u001B[0m \u001B[38;5;28;01mfor\u001B[39;00m \u001B[38;5;28mcls\u001B[39m \u001B[38;5;129;01min\u001B[39;00m _get_mro(obj_class):\n\u001B[1;32m    391\u001B[0m     \u001B[38;5;28;01mif\u001B[39;00m \u001B[38;5;28mcls\u001B[39m \u001B[38;5;129;01min\u001B[39;00m \u001B[38;5;28mself\u001B[39m\u001B[38;5;241m.\u001B[39mtype_pprinters:\n\u001B[1;32m    392\u001B[0m         \u001B[38;5;66;03m# printer registered in self.type_pprinters\u001B[39;00m\n\u001B[0;32m--> 393\u001B[0m         \u001B[38;5;28;01mreturn\u001B[39;00m \u001B[38;5;28;43mself\u001B[39;49m\u001B[38;5;241;43m.\u001B[39;49m\u001B[43mtype_pprinters\u001B[49m\u001B[43m[\u001B[49m\u001B[38;5;28;43mcls\u001B[39;49m\u001B[43m]\u001B[49m\u001B[43m(\u001B[49m\u001B[43mobj\u001B[49m\u001B[43m,\u001B[49m\u001B[43m \u001B[49m\u001B[38;5;28;43mself\u001B[39;49m\u001B[43m,\u001B[49m\u001B[43m \u001B[49m\u001B[43mcycle\u001B[49m\u001B[43m)\u001B[49m\n\u001B[1;32m    394\u001B[0m     \u001B[38;5;28;01melse\u001B[39;00m:\n\u001B[1;32m    395\u001B[0m         \u001B[38;5;66;03m# deferred printer\u001B[39;00m\n\u001B[1;32m    396\u001B[0m         printer \u001B[38;5;241m=\u001B[39m \u001B[38;5;28mself\u001B[39m\u001B[38;5;241m.\u001B[39m_in_deferred_types(\u001B[38;5;28mcls\u001B[39m)\n",
      "File \u001B[0;32m~/anaconda3/envs/dl/lib/python3.9/site-packages/IPython/lib/pretty.py:640\u001B[0m, in \u001B[0;36m_seq_pprinter_factory.<locals>.inner\u001B[0;34m(obj, p, cycle)\u001B[0m\n\u001B[1;32m    638\u001B[0m         p\u001B[38;5;241m.\u001B[39mtext(\u001B[38;5;124m'\u001B[39m\u001B[38;5;124m,\u001B[39m\u001B[38;5;124m'\u001B[39m)\n\u001B[1;32m    639\u001B[0m         p\u001B[38;5;241m.\u001B[39mbreakable()\n\u001B[0;32m--> 640\u001B[0m     \u001B[43mp\u001B[49m\u001B[38;5;241;43m.\u001B[39;49m\u001B[43mpretty\u001B[49m\u001B[43m(\u001B[49m\u001B[43mx\u001B[49m\u001B[43m)\u001B[49m\n\u001B[1;32m    641\u001B[0m \u001B[38;5;28;01mif\u001B[39;00m \u001B[38;5;28mlen\u001B[39m(obj) \u001B[38;5;241m==\u001B[39m \u001B[38;5;241m1\u001B[39m \u001B[38;5;129;01mand\u001B[39;00m \u001B[38;5;28misinstance\u001B[39m(obj, \u001B[38;5;28mtuple\u001B[39m):\n\u001B[1;32m    642\u001B[0m     \u001B[38;5;66;03m# Special case for 1-item tuples.\u001B[39;00m\n\u001B[1;32m    643\u001B[0m     p\u001B[38;5;241m.\u001B[39mtext(\u001B[38;5;124m'\u001B[39m\u001B[38;5;124m,\u001B[39m\u001B[38;5;124m'\u001B[39m)\n",
      "File \u001B[0;32m~/anaconda3/envs/dl/lib/python3.9/site-packages/IPython/lib/pretty.py:410\u001B[0m, in \u001B[0;36mRepresentationPrinter.pretty\u001B[0;34m(self, obj)\u001B[0m\n\u001B[1;32m    407\u001B[0m                         \u001B[38;5;28;01mreturn\u001B[39;00m meth(obj, \u001B[38;5;28mself\u001B[39m, cycle)\n\u001B[1;32m    408\u001B[0m                 \u001B[38;5;28;01mif\u001B[39;00m \u001B[38;5;28mcls\u001B[39m \u001B[38;5;129;01mis\u001B[39;00m \u001B[38;5;129;01mnot\u001B[39;00m \u001B[38;5;28mobject\u001B[39m \\\n\u001B[1;32m    409\u001B[0m                         \u001B[38;5;129;01mand\u001B[39;00m \u001B[38;5;28mcallable\u001B[39m(\u001B[38;5;28mcls\u001B[39m\u001B[38;5;241m.\u001B[39m\u001B[38;5;18m__dict__\u001B[39m\u001B[38;5;241m.\u001B[39mget(\u001B[38;5;124m'\u001B[39m\u001B[38;5;124m__repr__\u001B[39m\u001B[38;5;124m'\u001B[39m)):\n\u001B[0;32m--> 410\u001B[0m                     \u001B[38;5;28;01mreturn\u001B[39;00m \u001B[43m_repr_pprint\u001B[49m\u001B[43m(\u001B[49m\u001B[43mobj\u001B[49m\u001B[43m,\u001B[49m\u001B[43m \u001B[49m\u001B[38;5;28;43mself\u001B[39;49m\u001B[43m,\u001B[49m\u001B[43m \u001B[49m\u001B[43mcycle\u001B[49m\u001B[43m)\u001B[49m\n\u001B[1;32m    412\u001B[0m     \u001B[38;5;28;01mreturn\u001B[39;00m _default_pprint(obj, \u001B[38;5;28mself\u001B[39m, cycle)\n\u001B[1;32m    413\u001B[0m \u001B[38;5;28;01mfinally\u001B[39;00m:\n",
      "File \u001B[0;32m~/anaconda3/envs/dl/lib/python3.9/site-packages/IPython/lib/pretty.py:778\u001B[0m, in \u001B[0;36m_repr_pprint\u001B[0;34m(obj, p, cycle)\u001B[0m\n\u001B[1;32m    776\u001B[0m \u001B[38;5;250m\u001B[39m\u001B[38;5;124;03m\"\"\"A pprint that just redirects to the normal repr function.\"\"\"\u001B[39;00m\n\u001B[1;32m    777\u001B[0m \u001B[38;5;66;03m# Find newlines and replace them with p.break_()\u001B[39;00m\n\u001B[0;32m--> 778\u001B[0m output \u001B[38;5;241m=\u001B[39m \u001B[38;5;28;43mrepr\u001B[39;49m\u001B[43m(\u001B[49m\u001B[43mobj\u001B[49m\u001B[43m)\u001B[49m\n\u001B[1;32m    779\u001B[0m lines \u001B[38;5;241m=\u001B[39m output\u001B[38;5;241m.\u001B[39msplitlines()\n\u001B[1;32m    780\u001B[0m \u001B[38;5;28;01mwith\u001B[39;00m p\u001B[38;5;241m.\u001B[39mgroup():\n",
      "File \u001B[0;32m~/anaconda3/envs/dl/lib/python3.9/site-packages/torch/_tensor.py:431\u001B[0m, in \u001B[0;36mTensor.__repr__\u001B[0;34m(self, tensor_contents)\u001B[0m\n\u001B[1;32m    427\u001B[0m     \u001B[38;5;28;01mreturn\u001B[39;00m handle_torch_function(\n\u001B[1;32m    428\u001B[0m         Tensor\u001B[38;5;241m.\u001B[39m\u001B[38;5;21m__repr__\u001B[39m, (\u001B[38;5;28mself\u001B[39m,), \u001B[38;5;28mself\u001B[39m, tensor_contents\u001B[38;5;241m=\u001B[39mtensor_contents\n\u001B[1;32m    429\u001B[0m     )\n\u001B[1;32m    430\u001B[0m \u001B[38;5;66;03m# All strings are unicode in Python 3.\u001B[39;00m\n\u001B[0;32m--> 431\u001B[0m \u001B[38;5;28;01mreturn\u001B[39;00m \u001B[43mtorch\u001B[49m\u001B[38;5;241;43m.\u001B[39;49m\u001B[43m_tensor_str\u001B[49m\u001B[38;5;241;43m.\u001B[39;49m\u001B[43m_str\u001B[49m\u001B[43m(\u001B[49m\u001B[38;5;28;43mself\u001B[39;49m\u001B[43m,\u001B[49m\u001B[43m \u001B[49m\u001B[43mtensor_contents\u001B[49m\u001B[38;5;241;43m=\u001B[39;49m\u001B[43mtensor_contents\u001B[49m\u001B[43m)\u001B[49m\n",
      "File \u001B[0;32m~/anaconda3/envs/dl/lib/python3.9/site-packages/torch/_tensor_str.py:664\u001B[0m, in \u001B[0;36m_str\u001B[0;34m(self, tensor_contents)\u001B[0m\n\u001B[1;32m    662\u001B[0m \u001B[38;5;28;01mwith\u001B[39;00m torch\u001B[38;5;241m.\u001B[39mno_grad(), torch\u001B[38;5;241m.\u001B[39mutils\u001B[38;5;241m.\u001B[39m_python_dispatch\u001B[38;5;241m.\u001B[39m_disable_current_modes():\n\u001B[1;32m    663\u001B[0m     guard \u001B[38;5;241m=\u001B[39m torch\u001B[38;5;241m.\u001B[39m_C\u001B[38;5;241m.\u001B[39m_DisableFuncTorch()\n\u001B[0;32m--> 664\u001B[0m     \u001B[38;5;28;01mreturn\u001B[39;00m \u001B[43m_str_intern\u001B[49m\u001B[43m(\u001B[49m\u001B[38;5;28;43mself\u001B[39;49m\u001B[43m,\u001B[49m\u001B[43m \u001B[49m\u001B[43mtensor_contents\u001B[49m\u001B[38;5;241;43m=\u001B[39;49m\u001B[43mtensor_contents\u001B[49m\u001B[43m)\u001B[49m\n",
      "File \u001B[0;32m~/anaconda3/envs/dl/lib/python3.9/site-packages/torch/_tensor_str.py:595\u001B[0m, in \u001B[0;36m_str_intern\u001B[0;34m(inp, tensor_contents)\u001B[0m\n\u001B[1;32m    593\u001B[0m                     tensor_str \u001B[38;5;241m=\u001B[39m _tensor_str(\u001B[38;5;28mself\u001B[39m\u001B[38;5;241m.\u001B[39mto_dense(), indent)\n\u001B[1;32m    594\u001B[0m                 \u001B[38;5;28;01melse\u001B[39;00m:\n\u001B[0;32m--> 595\u001B[0m                     tensor_str \u001B[38;5;241m=\u001B[39m \u001B[43m_tensor_str\u001B[49m\u001B[43m(\u001B[49m\u001B[38;5;28;43mself\u001B[39;49m\u001B[43m,\u001B[49m\u001B[43m \u001B[49m\u001B[43mindent\u001B[49m\u001B[43m)\u001B[49m\n\u001B[1;32m    597\u001B[0m \u001B[38;5;28;01mif\u001B[39;00m \u001B[38;5;28mself\u001B[39m\u001B[38;5;241m.\u001B[39mlayout \u001B[38;5;241m!=\u001B[39m torch\u001B[38;5;241m.\u001B[39mstrided:\n\u001B[1;32m    598\u001B[0m     suffixes\u001B[38;5;241m.\u001B[39mappend(\u001B[38;5;124m\"\u001B[39m\u001B[38;5;124mlayout=\u001B[39m\u001B[38;5;124m\"\u001B[39m \u001B[38;5;241m+\u001B[39m \u001B[38;5;28mstr\u001B[39m(\u001B[38;5;28mself\u001B[39m\u001B[38;5;241m.\u001B[39mlayout))\n",
      "File \u001B[0;32m~/anaconda3/envs/dl/lib/python3.9/site-packages/torch/_tensor_str.py:348\u001B[0m, in \u001B[0;36m_tensor_str\u001B[0;34m(self, indent)\u001B[0m\n\u001B[1;32m    346\u001B[0m \u001B[38;5;28;01melse\u001B[39;00m:\n\u001B[1;32m    347\u001B[0m     formatter \u001B[38;5;241m=\u001B[39m _Formatter(get_summarized_data(\u001B[38;5;28mself\u001B[39m) \u001B[38;5;28;01mif\u001B[39;00m summarize \u001B[38;5;28;01melse\u001B[39;00m \u001B[38;5;28mself\u001B[39m)\n\u001B[0;32m--> 348\u001B[0m     \u001B[38;5;28;01mreturn\u001B[39;00m \u001B[43m_tensor_str_with_formatter\u001B[49m\u001B[43m(\u001B[49m\u001B[38;5;28;43mself\u001B[39;49m\u001B[43m,\u001B[49m\u001B[43m \u001B[49m\u001B[43mindent\u001B[49m\u001B[43m,\u001B[49m\u001B[43m \u001B[49m\u001B[43msummarize\u001B[49m\u001B[43m,\u001B[49m\u001B[43m \u001B[49m\u001B[43mformatter\u001B[49m\u001B[43m)\u001B[49m\n",
      "File \u001B[0;32m~/anaconda3/envs/dl/lib/python3.9/site-packages/torch/_tensor_str.py:291\u001B[0m, in \u001B[0;36m_tensor_str_with_formatter\u001B[0;34m(self, indent, summarize, formatter1, formatter2)\u001B[0m\n\u001B[1;32m    275\u001B[0m     slices \u001B[38;5;241m=\u001B[39m (\n\u001B[1;32m    276\u001B[0m         [\n\u001B[1;32m    277\u001B[0m             _tensor_str_with_formatter(\n\u001B[0;32m   (...)\u001B[0m\n\u001B[1;32m    288\u001B[0m         ]\n\u001B[1;32m    289\u001B[0m     )\n\u001B[1;32m    290\u001B[0m \u001B[38;5;28;01melse\u001B[39;00m:\n\u001B[0;32m--> 291\u001B[0m     slices \u001B[38;5;241m=\u001B[39m [\n\u001B[1;32m    292\u001B[0m         _tensor_str_with_formatter(\n\u001B[1;32m    293\u001B[0m             \u001B[38;5;28mself\u001B[39m[i], indent \u001B[38;5;241m+\u001B[39m \u001B[38;5;241m1\u001B[39m, summarize, formatter1, formatter2\n\u001B[1;32m    294\u001B[0m         )\n\u001B[1;32m    295\u001B[0m         \u001B[38;5;28;01mfor\u001B[39;00m i \u001B[38;5;129;01min\u001B[39;00m \u001B[38;5;28mrange\u001B[39m(\u001B[38;5;241m0\u001B[39m, \u001B[38;5;28mself\u001B[39m\u001B[38;5;241m.\u001B[39msize(\u001B[38;5;241m0\u001B[39m))\n\u001B[1;32m    296\u001B[0m     ]\n\u001B[1;32m    298\u001B[0m tensor_str \u001B[38;5;241m=\u001B[39m (\u001B[38;5;124m\"\u001B[39m\u001B[38;5;124m,\u001B[39m\u001B[38;5;124m\"\u001B[39m \u001B[38;5;241m+\u001B[39m \u001B[38;5;124m\"\u001B[39m\u001B[38;5;130;01m\\n\u001B[39;00m\u001B[38;5;124m\"\u001B[39m \u001B[38;5;241m*\u001B[39m (dim \u001B[38;5;241m-\u001B[39m \u001B[38;5;241m1\u001B[39m) \u001B[38;5;241m+\u001B[39m \u001B[38;5;124m\"\u001B[39m\u001B[38;5;124m \u001B[39m\u001B[38;5;124m\"\u001B[39m \u001B[38;5;241m*\u001B[39m (indent \u001B[38;5;241m+\u001B[39m \u001B[38;5;241m1\u001B[39m))\u001B[38;5;241m.\u001B[39mjoin(slices)\n\u001B[1;32m    299\u001B[0m \u001B[38;5;28;01mreturn\u001B[39;00m \u001B[38;5;124m\"\u001B[39m\u001B[38;5;124m[\u001B[39m\u001B[38;5;124m\"\u001B[39m \u001B[38;5;241m+\u001B[39m tensor_str \u001B[38;5;241m+\u001B[39m \u001B[38;5;124m\"\u001B[39m\u001B[38;5;124m]\u001B[39m\u001B[38;5;124m\"\u001B[39m\n",
      "File \u001B[0;32m~/anaconda3/envs/dl/lib/python3.9/site-packages/torch/_tensor_str.py:292\u001B[0m, in \u001B[0;36m<listcomp>\u001B[0;34m(.0)\u001B[0m\n\u001B[1;32m    275\u001B[0m     slices \u001B[38;5;241m=\u001B[39m (\n\u001B[1;32m    276\u001B[0m         [\n\u001B[1;32m    277\u001B[0m             _tensor_str_with_formatter(\n\u001B[0;32m   (...)\u001B[0m\n\u001B[1;32m    288\u001B[0m         ]\n\u001B[1;32m    289\u001B[0m     )\n\u001B[1;32m    290\u001B[0m \u001B[38;5;28;01melse\u001B[39;00m:\n\u001B[1;32m    291\u001B[0m     slices \u001B[38;5;241m=\u001B[39m [\n\u001B[0;32m--> 292\u001B[0m         \u001B[43m_tensor_str_with_formatter\u001B[49m\u001B[43m(\u001B[49m\n\u001B[1;32m    293\u001B[0m \u001B[43m            \u001B[49m\u001B[38;5;28;43mself\u001B[39;49m\u001B[43m[\u001B[49m\u001B[43mi\u001B[49m\u001B[43m]\u001B[49m\u001B[43m,\u001B[49m\u001B[43m \u001B[49m\u001B[43mindent\u001B[49m\u001B[43m \u001B[49m\u001B[38;5;241;43m+\u001B[39;49m\u001B[43m \u001B[49m\u001B[38;5;241;43m1\u001B[39;49m\u001B[43m,\u001B[49m\u001B[43m \u001B[49m\u001B[43msummarize\u001B[49m\u001B[43m,\u001B[49m\u001B[43m \u001B[49m\u001B[43mformatter1\u001B[49m\u001B[43m,\u001B[49m\u001B[43m \u001B[49m\u001B[43mformatter2\u001B[49m\n\u001B[1;32m    294\u001B[0m \u001B[43m        \u001B[49m\u001B[43m)\u001B[49m\n\u001B[1;32m    295\u001B[0m         \u001B[38;5;28;01mfor\u001B[39;00m i \u001B[38;5;129;01min\u001B[39;00m \u001B[38;5;28mrange\u001B[39m(\u001B[38;5;241m0\u001B[39m, \u001B[38;5;28mself\u001B[39m\u001B[38;5;241m.\u001B[39msize(\u001B[38;5;241m0\u001B[39m))\n\u001B[1;32m    296\u001B[0m     ]\n\u001B[1;32m    298\u001B[0m tensor_str \u001B[38;5;241m=\u001B[39m (\u001B[38;5;124m\"\u001B[39m\u001B[38;5;124m,\u001B[39m\u001B[38;5;124m\"\u001B[39m \u001B[38;5;241m+\u001B[39m \u001B[38;5;124m\"\u001B[39m\u001B[38;5;130;01m\\n\u001B[39;00m\u001B[38;5;124m\"\u001B[39m \u001B[38;5;241m*\u001B[39m (dim \u001B[38;5;241m-\u001B[39m \u001B[38;5;241m1\u001B[39m) \u001B[38;5;241m+\u001B[39m \u001B[38;5;124m\"\u001B[39m\u001B[38;5;124m \u001B[39m\u001B[38;5;124m\"\u001B[39m \u001B[38;5;241m*\u001B[39m (indent \u001B[38;5;241m+\u001B[39m \u001B[38;5;241m1\u001B[39m))\u001B[38;5;241m.\u001B[39mjoin(slices)\n\u001B[1;32m    299\u001B[0m \u001B[38;5;28;01mreturn\u001B[39;00m \u001B[38;5;124m\"\u001B[39m\u001B[38;5;124m[\u001B[39m\u001B[38;5;124m\"\u001B[39m \u001B[38;5;241m+\u001B[39m tensor_str \u001B[38;5;241m+\u001B[39m \u001B[38;5;124m\"\u001B[39m\u001B[38;5;124m]\u001B[39m\u001B[38;5;124m\"\u001B[39m\n",
      "File \u001B[0;32m~/anaconda3/envs/dl/lib/python3.9/site-packages/torch/_tensor_str.py:291\u001B[0m, in \u001B[0;36m_tensor_str_with_formatter\u001B[0;34m(self, indent, summarize, formatter1, formatter2)\u001B[0m\n\u001B[1;32m    275\u001B[0m     slices \u001B[38;5;241m=\u001B[39m (\n\u001B[1;32m    276\u001B[0m         [\n\u001B[1;32m    277\u001B[0m             _tensor_str_with_formatter(\n\u001B[0;32m   (...)\u001B[0m\n\u001B[1;32m    288\u001B[0m         ]\n\u001B[1;32m    289\u001B[0m     )\n\u001B[1;32m    290\u001B[0m \u001B[38;5;28;01melse\u001B[39;00m:\n\u001B[0;32m--> 291\u001B[0m     slices \u001B[38;5;241m=\u001B[39m [\n\u001B[1;32m    292\u001B[0m         _tensor_str_with_formatter(\n\u001B[1;32m    293\u001B[0m             \u001B[38;5;28mself\u001B[39m[i], indent \u001B[38;5;241m+\u001B[39m \u001B[38;5;241m1\u001B[39m, summarize, formatter1, formatter2\n\u001B[1;32m    294\u001B[0m         )\n\u001B[1;32m    295\u001B[0m         \u001B[38;5;28;01mfor\u001B[39;00m i \u001B[38;5;129;01min\u001B[39;00m \u001B[38;5;28mrange\u001B[39m(\u001B[38;5;241m0\u001B[39m, \u001B[38;5;28mself\u001B[39m\u001B[38;5;241m.\u001B[39msize(\u001B[38;5;241m0\u001B[39m))\n\u001B[1;32m    296\u001B[0m     ]\n\u001B[1;32m    298\u001B[0m tensor_str \u001B[38;5;241m=\u001B[39m (\u001B[38;5;124m\"\u001B[39m\u001B[38;5;124m,\u001B[39m\u001B[38;5;124m\"\u001B[39m \u001B[38;5;241m+\u001B[39m \u001B[38;5;124m\"\u001B[39m\u001B[38;5;130;01m\\n\u001B[39;00m\u001B[38;5;124m\"\u001B[39m \u001B[38;5;241m*\u001B[39m (dim \u001B[38;5;241m-\u001B[39m \u001B[38;5;241m1\u001B[39m) \u001B[38;5;241m+\u001B[39m \u001B[38;5;124m\"\u001B[39m\u001B[38;5;124m \u001B[39m\u001B[38;5;124m\"\u001B[39m \u001B[38;5;241m*\u001B[39m (indent \u001B[38;5;241m+\u001B[39m \u001B[38;5;241m1\u001B[39m))\u001B[38;5;241m.\u001B[39mjoin(slices)\n\u001B[1;32m    299\u001B[0m \u001B[38;5;28;01mreturn\u001B[39;00m \u001B[38;5;124m\"\u001B[39m\u001B[38;5;124m[\u001B[39m\u001B[38;5;124m\"\u001B[39m \u001B[38;5;241m+\u001B[39m tensor_str \u001B[38;5;241m+\u001B[39m \u001B[38;5;124m\"\u001B[39m\u001B[38;5;124m]\u001B[39m\u001B[38;5;124m\"\u001B[39m\n",
      "File \u001B[0;32m~/anaconda3/envs/dl/lib/python3.9/site-packages/torch/_tensor_str.py:292\u001B[0m, in \u001B[0;36m<listcomp>\u001B[0;34m(.0)\u001B[0m\n\u001B[1;32m    275\u001B[0m     slices \u001B[38;5;241m=\u001B[39m (\n\u001B[1;32m    276\u001B[0m         [\n\u001B[1;32m    277\u001B[0m             _tensor_str_with_formatter(\n\u001B[0;32m   (...)\u001B[0m\n\u001B[1;32m    288\u001B[0m         ]\n\u001B[1;32m    289\u001B[0m     )\n\u001B[1;32m    290\u001B[0m \u001B[38;5;28;01melse\u001B[39;00m:\n\u001B[1;32m    291\u001B[0m     slices \u001B[38;5;241m=\u001B[39m [\n\u001B[0;32m--> 292\u001B[0m         \u001B[43m_tensor_str_with_formatter\u001B[49m\u001B[43m(\u001B[49m\n\u001B[1;32m    293\u001B[0m \u001B[43m            \u001B[49m\u001B[38;5;28;43mself\u001B[39;49m\u001B[43m[\u001B[49m\u001B[43mi\u001B[49m\u001B[43m]\u001B[49m\u001B[43m,\u001B[49m\u001B[43m \u001B[49m\u001B[43mindent\u001B[49m\u001B[43m \u001B[49m\u001B[38;5;241;43m+\u001B[39;49m\u001B[43m \u001B[49m\u001B[38;5;241;43m1\u001B[39;49m\u001B[43m,\u001B[49m\u001B[43m \u001B[49m\u001B[43msummarize\u001B[49m\u001B[43m,\u001B[49m\u001B[43m \u001B[49m\u001B[43mformatter1\u001B[49m\u001B[43m,\u001B[49m\u001B[43m \u001B[49m\u001B[43mformatter2\u001B[49m\n\u001B[1;32m    294\u001B[0m \u001B[43m        \u001B[49m\u001B[43m)\u001B[49m\n\u001B[1;32m    295\u001B[0m         \u001B[38;5;28;01mfor\u001B[39;00m i \u001B[38;5;129;01min\u001B[39;00m \u001B[38;5;28mrange\u001B[39m(\u001B[38;5;241m0\u001B[39m, \u001B[38;5;28mself\u001B[39m\u001B[38;5;241m.\u001B[39msize(\u001B[38;5;241m0\u001B[39m))\n\u001B[1;32m    296\u001B[0m     ]\n\u001B[1;32m    298\u001B[0m tensor_str \u001B[38;5;241m=\u001B[39m (\u001B[38;5;124m\"\u001B[39m\u001B[38;5;124m,\u001B[39m\u001B[38;5;124m\"\u001B[39m \u001B[38;5;241m+\u001B[39m \u001B[38;5;124m\"\u001B[39m\u001B[38;5;130;01m\\n\u001B[39;00m\u001B[38;5;124m\"\u001B[39m \u001B[38;5;241m*\u001B[39m (dim \u001B[38;5;241m-\u001B[39m \u001B[38;5;241m1\u001B[39m) \u001B[38;5;241m+\u001B[39m \u001B[38;5;124m\"\u001B[39m\u001B[38;5;124m \u001B[39m\u001B[38;5;124m\"\u001B[39m \u001B[38;5;241m*\u001B[39m (indent \u001B[38;5;241m+\u001B[39m \u001B[38;5;241m1\u001B[39m))\u001B[38;5;241m.\u001B[39mjoin(slices)\n\u001B[1;32m    299\u001B[0m \u001B[38;5;28;01mreturn\u001B[39;00m \u001B[38;5;124m\"\u001B[39m\u001B[38;5;124m[\u001B[39m\u001B[38;5;124m\"\u001B[39m \u001B[38;5;241m+\u001B[39m tensor_str \u001B[38;5;241m+\u001B[39m \u001B[38;5;124m\"\u001B[39m\u001B[38;5;124m]\u001B[39m\u001B[38;5;124m\"\u001B[39m\n",
      "File \u001B[0;32m~/anaconda3/envs/dl/lib/python3.9/site-packages/torch/_tensor_str.py:291\u001B[0m, in \u001B[0;36m_tensor_str_with_formatter\u001B[0;34m(self, indent, summarize, formatter1, formatter2)\u001B[0m\n\u001B[1;32m    275\u001B[0m     slices \u001B[38;5;241m=\u001B[39m (\n\u001B[1;32m    276\u001B[0m         [\n\u001B[1;32m    277\u001B[0m             _tensor_str_with_formatter(\n\u001B[0;32m   (...)\u001B[0m\n\u001B[1;32m    288\u001B[0m         ]\n\u001B[1;32m    289\u001B[0m     )\n\u001B[1;32m    290\u001B[0m \u001B[38;5;28;01melse\u001B[39;00m:\n\u001B[0;32m--> 291\u001B[0m     slices \u001B[38;5;241m=\u001B[39m [\n\u001B[1;32m    292\u001B[0m         _tensor_str_with_formatter(\n\u001B[1;32m    293\u001B[0m             \u001B[38;5;28mself\u001B[39m[i], indent \u001B[38;5;241m+\u001B[39m \u001B[38;5;241m1\u001B[39m, summarize, formatter1, formatter2\n\u001B[1;32m    294\u001B[0m         )\n\u001B[1;32m    295\u001B[0m         \u001B[38;5;28;01mfor\u001B[39;00m i \u001B[38;5;129;01min\u001B[39;00m \u001B[38;5;28mrange\u001B[39m(\u001B[38;5;241m0\u001B[39m, \u001B[38;5;28mself\u001B[39m\u001B[38;5;241m.\u001B[39msize(\u001B[38;5;241m0\u001B[39m))\n\u001B[1;32m    296\u001B[0m     ]\n\u001B[1;32m    298\u001B[0m tensor_str \u001B[38;5;241m=\u001B[39m (\u001B[38;5;124m\"\u001B[39m\u001B[38;5;124m,\u001B[39m\u001B[38;5;124m\"\u001B[39m \u001B[38;5;241m+\u001B[39m \u001B[38;5;124m\"\u001B[39m\u001B[38;5;130;01m\\n\u001B[39;00m\u001B[38;5;124m\"\u001B[39m \u001B[38;5;241m*\u001B[39m (dim \u001B[38;5;241m-\u001B[39m \u001B[38;5;241m1\u001B[39m) \u001B[38;5;241m+\u001B[39m \u001B[38;5;124m\"\u001B[39m\u001B[38;5;124m \u001B[39m\u001B[38;5;124m\"\u001B[39m \u001B[38;5;241m*\u001B[39m (indent \u001B[38;5;241m+\u001B[39m \u001B[38;5;241m1\u001B[39m))\u001B[38;5;241m.\u001B[39mjoin(slices)\n\u001B[1;32m    299\u001B[0m \u001B[38;5;28;01mreturn\u001B[39;00m \u001B[38;5;124m\"\u001B[39m\u001B[38;5;124m[\u001B[39m\u001B[38;5;124m\"\u001B[39m \u001B[38;5;241m+\u001B[39m tensor_str \u001B[38;5;241m+\u001B[39m \u001B[38;5;124m\"\u001B[39m\u001B[38;5;124m]\u001B[39m\u001B[38;5;124m\"\u001B[39m\n",
      "File \u001B[0;32m~/anaconda3/envs/dl/lib/python3.9/site-packages/torch/_tensor_str.py:292\u001B[0m, in \u001B[0;36m<listcomp>\u001B[0;34m(.0)\u001B[0m\n\u001B[1;32m    275\u001B[0m     slices \u001B[38;5;241m=\u001B[39m (\n\u001B[1;32m    276\u001B[0m         [\n\u001B[1;32m    277\u001B[0m             _tensor_str_with_formatter(\n\u001B[0;32m   (...)\u001B[0m\n\u001B[1;32m    288\u001B[0m         ]\n\u001B[1;32m    289\u001B[0m     )\n\u001B[1;32m    290\u001B[0m \u001B[38;5;28;01melse\u001B[39;00m:\n\u001B[1;32m    291\u001B[0m     slices \u001B[38;5;241m=\u001B[39m [\n\u001B[0;32m--> 292\u001B[0m         \u001B[43m_tensor_str_with_formatter\u001B[49m\u001B[43m(\u001B[49m\n\u001B[1;32m    293\u001B[0m \u001B[43m            \u001B[49m\u001B[38;5;28;43mself\u001B[39;49m\u001B[43m[\u001B[49m\u001B[43mi\u001B[49m\u001B[43m]\u001B[49m\u001B[43m,\u001B[49m\u001B[43m \u001B[49m\u001B[43mindent\u001B[49m\u001B[43m \u001B[49m\u001B[38;5;241;43m+\u001B[39;49m\u001B[43m \u001B[49m\u001B[38;5;241;43m1\u001B[39;49m\u001B[43m,\u001B[49m\u001B[43m \u001B[49m\u001B[43msummarize\u001B[49m\u001B[43m,\u001B[49m\u001B[43m \u001B[49m\u001B[43mformatter1\u001B[49m\u001B[43m,\u001B[49m\u001B[43m \u001B[49m\u001B[43mformatter2\u001B[49m\n\u001B[1;32m    294\u001B[0m \u001B[43m        \u001B[49m\u001B[43m)\u001B[49m\n\u001B[1;32m    295\u001B[0m         \u001B[38;5;28;01mfor\u001B[39;00m i \u001B[38;5;129;01min\u001B[39;00m \u001B[38;5;28mrange\u001B[39m(\u001B[38;5;241m0\u001B[39m, \u001B[38;5;28mself\u001B[39m\u001B[38;5;241m.\u001B[39msize(\u001B[38;5;241m0\u001B[39m))\n\u001B[1;32m    296\u001B[0m     ]\n\u001B[1;32m    298\u001B[0m tensor_str \u001B[38;5;241m=\u001B[39m (\u001B[38;5;124m\"\u001B[39m\u001B[38;5;124m,\u001B[39m\u001B[38;5;124m\"\u001B[39m \u001B[38;5;241m+\u001B[39m \u001B[38;5;124m\"\u001B[39m\u001B[38;5;130;01m\\n\u001B[39;00m\u001B[38;5;124m\"\u001B[39m \u001B[38;5;241m*\u001B[39m (dim \u001B[38;5;241m-\u001B[39m \u001B[38;5;241m1\u001B[39m) \u001B[38;5;241m+\u001B[39m \u001B[38;5;124m\"\u001B[39m\u001B[38;5;124m \u001B[39m\u001B[38;5;124m\"\u001B[39m \u001B[38;5;241m*\u001B[39m (indent \u001B[38;5;241m+\u001B[39m \u001B[38;5;241m1\u001B[39m))\u001B[38;5;241m.\u001B[39mjoin(slices)\n\u001B[1;32m    299\u001B[0m \u001B[38;5;28;01mreturn\u001B[39;00m \u001B[38;5;124m\"\u001B[39m\u001B[38;5;124m[\u001B[39m\u001B[38;5;124m\"\u001B[39m \u001B[38;5;241m+\u001B[39m tensor_str \u001B[38;5;241m+\u001B[39m \u001B[38;5;124m\"\u001B[39m\u001B[38;5;124m]\u001B[39m\u001B[38;5;124m\"\u001B[39m\n",
      "File \u001B[0;32m~/anaconda3/envs/dl/lib/python3.9/site-packages/torch/_tensor_str.py:272\u001B[0m, in \u001B[0;36m_tensor_str_with_formatter\u001B[0;34m(self, indent, summarize, formatter1, formatter2)\u001B[0m\n\u001B[1;32m    269\u001B[0m     \u001B[38;5;28;01mreturn\u001B[39;00m _scalar_str(\u001B[38;5;28mself\u001B[39m, formatter1, formatter2)\n\u001B[1;32m    271\u001B[0m \u001B[38;5;28;01mif\u001B[39;00m dim \u001B[38;5;241m==\u001B[39m \u001B[38;5;241m1\u001B[39m:\n\u001B[0;32m--> 272\u001B[0m     \u001B[38;5;28;01mreturn\u001B[39;00m \u001B[43m_vector_str\u001B[49m\u001B[43m(\u001B[49m\u001B[38;5;28;43mself\u001B[39;49m\u001B[43m,\u001B[49m\u001B[43m \u001B[49m\u001B[43mindent\u001B[49m\u001B[43m,\u001B[49m\u001B[43m \u001B[49m\u001B[43msummarize\u001B[49m\u001B[43m,\u001B[49m\u001B[43m \u001B[49m\u001B[43mformatter1\u001B[49m\u001B[43m,\u001B[49m\u001B[43m \u001B[49m\u001B[43mformatter2\u001B[49m\u001B[43m)\u001B[49m\n\u001B[1;32m    274\u001B[0m \u001B[38;5;28;01mif\u001B[39;00m summarize \u001B[38;5;129;01mand\u001B[39;00m \u001B[38;5;28mself\u001B[39m\u001B[38;5;241m.\u001B[39msize(\u001B[38;5;241m0\u001B[39m) \u001B[38;5;241m>\u001B[39m \u001B[38;5;241m2\u001B[39m \u001B[38;5;241m*\u001B[39m PRINT_OPTS\u001B[38;5;241m.\u001B[39medgeitems:\n\u001B[1;32m    275\u001B[0m     slices \u001B[38;5;241m=\u001B[39m (\n\u001B[1;32m    276\u001B[0m         [\n\u001B[1;32m    277\u001B[0m             _tensor_str_with_formatter(\n\u001B[0;32m   (...)\u001B[0m\n\u001B[1;32m    288\u001B[0m         ]\n\u001B[1;32m    289\u001B[0m     )\n",
      "File \u001B[0;32m~/anaconda3/envs/dl/lib/python3.9/site-packages/torch/_tensor_str.py:253\u001B[0m, in \u001B[0;36m_vector_str\u001B[0;34m(self, indent, summarize, formatter1, formatter2)\u001B[0m\n\u001B[1;32m    247\u001B[0m     data \u001B[38;5;241m=\u001B[39m (\n\u001B[1;32m    248\u001B[0m         [_val_formatter(val) \u001B[38;5;28;01mfor\u001B[39;00m val \u001B[38;5;129;01min\u001B[39;00m \u001B[38;5;28mself\u001B[39m[: PRINT_OPTS\u001B[38;5;241m.\u001B[39medgeitems]\u001B[38;5;241m.\u001B[39mtolist()]\n\u001B[1;32m    249\u001B[0m         \u001B[38;5;241m+\u001B[39m [\u001B[38;5;124m\"\u001B[39m\u001B[38;5;124m ...\u001B[39m\u001B[38;5;124m\"\u001B[39m]\n\u001B[1;32m    250\u001B[0m         \u001B[38;5;241m+\u001B[39m [_val_formatter(val) \u001B[38;5;28;01mfor\u001B[39;00m val \u001B[38;5;129;01min\u001B[39;00m \u001B[38;5;28mself\u001B[39m[\u001B[38;5;241m-\u001B[39mPRINT_OPTS\u001B[38;5;241m.\u001B[39medgeitems :]\u001B[38;5;241m.\u001B[39mtolist()]\n\u001B[1;32m    251\u001B[0m     )\n\u001B[1;32m    252\u001B[0m \u001B[38;5;28;01melse\u001B[39;00m:\n\u001B[0;32m--> 253\u001B[0m     data \u001B[38;5;241m=\u001B[39m [_val_formatter(val) \u001B[38;5;28;01mfor\u001B[39;00m val \u001B[38;5;129;01min\u001B[39;00m \u001B[38;5;28;43mself\u001B[39;49m\u001B[38;5;241;43m.\u001B[39;49m\u001B[43mtolist\u001B[49m\u001B[43m(\u001B[49m\u001B[43m)\u001B[49m]\n\u001B[1;32m    255\u001B[0m data_lines \u001B[38;5;241m=\u001B[39m [\n\u001B[1;32m    256\u001B[0m     data[i : i \u001B[38;5;241m+\u001B[39m elements_per_line] \u001B[38;5;28;01mfor\u001B[39;00m i \u001B[38;5;129;01min\u001B[39;00m \u001B[38;5;28mrange\u001B[39m(\u001B[38;5;241m0\u001B[39m, \u001B[38;5;28mlen\u001B[39m(data), elements_per_line)\n\u001B[1;32m    257\u001B[0m ]\n\u001B[1;32m    258\u001B[0m lines \u001B[38;5;241m=\u001B[39m [\u001B[38;5;124m\"\u001B[39m\u001B[38;5;124m, \u001B[39m\u001B[38;5;124m\"\u001B[39m\u001B[38;5;241m.\u001B[39mjoin(line) \u001B[38;5;28;01mfor\u001B[39;00m line \u001B[38;5;129;01min\u001B[39;00m data_lines]\n",
      "\u001B[0;31mKeyboardInterrupt\u001B[0m: "
     ]
    }
   ],
   "source": [
    "model.state_dict()"
   ],
   "metadata": {
    "collapsed": false,
    "ExecuteTime": {
     "end_time": "2024-02-05T16:07:09.493042500Z",
     "start_time": "2024-02-05T16:07:08.951791900Z"
    }
   },
   "id": "6f282f395ffce6e",
   "execution_count": 13
  },
  {
   "cell_type": "code",
   "outputs": [],
   "source": [
    "# Find image dimensions for linear layer\n",
    "model(img.unsqueeze(0).to(device))"
   ],
   "metadata": {
    "collapsed": false,
    "ExecuteTime": {
     "end_time": "2024-02-05T16:07:09.497040400Z",
     "start_time": "2024-02-05T16:07:09.494040100Z"
    }
   },
   "id": "1f7714925bcc04ea",
   "execution_count": null
  },
  {
   "cell_type": "code",
   "outputs": [],
   "source": [
    "from torchmetrics import Accuracy\n",
    "def train_epoch(model,data_loader,loss_fn,optimizer,device):\n",
    "    train_loss, train_acc = 0,0\n",
    "    accuracy = Accuracy(task=\"binary\").to(device)\n",
    "    model.train()\n",
    "    for batch, (X,y) in enumerate(data_loader):\n",
    "        X, y = X.to(device), y.to(device)\n",
    "        y_pred = model(X).squeeze(1)\n",
    "        batch_loss = loss_fn(y_pred, y.float())\n",
    "        train_loss += batch_loss\n",
    "        y_pred = (y_pred > 0.5).long()\n",
    "        train_acc += accuracy(y_pred, y)\n",
    "        optimizer.zero_grad()\n",
    "        batch_loss.backward()\n",
    "        optimizer.step()\n",
    "    train_loss /= len(data_loader)\n",
    "    train_acc /= len(data_loader)\n",
    "    print(f\"Train loss: {train_loss:.5f} | Train acc: {train_acc:.2f}%\")\n",
    "\n",
    "def test_epoch(model,data_loader,loss,optimizer,device):\n",
    "  test_loss, test_acc = 0, 0\n",
    "  model.eval()\n",
    "  accuracy = Accuracy(task=\"binary\").to(device)\n",
    "  with torch.inference_mode():\n",
    "    for X,y in test_dataloader:\n",
    "      X,y = X.to(device), y.unsqueeze(1).to(device)\n",
    "      test_pred = model(X)\n",
    "      test_loss += loss(test_pred,y.float())\n",
    "      test_pred = (test_pred > 0.5).long()\n",
    "      test_acc +=  accuracy(test_pred, y)\n",
    "    test_loss/=len(data_loader)\n",
    "    test_acc/=len(data_loader)\n",
    "  print(f\"\\nTest loss: {test_loss:.4f}, Test acc: {test_acc:.2f}% \\n\")\n"
   ],
   "metadata": {
    "collapsed": false,
    "ExecuteTime": {
     "start_time": "2024-02-05T16:07:09.495039800Z"
    }
   },
   "id": "b1adfc67cf9b99bd",
   "execution_count": null
  },
  {
   "cell_type": "code",
   "outputs": [],
   "source": [
    "from tqdm.auto import tqdm\n",
    "\n",
    "loss = nn.BCEWithLogitsLoss()\n",
    "optimizer = torch.optim.Adam(model.parameters(), lr=0.001)\n",
    "epochs = 3\n",
    "\n",
    "for i in tqdm(range(epochs)):\n",
    "    print(f\"Epoch {i+1}\\n-------------------------------\")\n",
    "    train_epoch(model, train_dataloader, loss, optimizer, device)\n",
    "    test_epoch(model, test_dataloader, loss, optimizer, device)"
   ],
   "metadata": {
    "collapsed": false,
    "ExecuteTime": {
     "start_time": "2024-02-05T16:07:09.497040400Z"
    }
   },
   "id": "18cefc9e4863a017",
   "execution_count": null
  },
  {
   "cell_type": "code",
   "outputs": [],
   "source": [
    "img, l = None, None\n",
    "for images, labels in train_dataloader:\n",
    "    img, l = images[0], labels[0]\n",
    "    break\n",
    "\n",
    "for batch, (X,y) in enumerate(train_dataloader):\n",
    "    print(X.shape)\n",
    "    print(y.shape)\n",
    "\n",
    "    break"
   ],
   "metadata": {
    "collapsed": false,
    "ExecuteTime": {
     "end_time": "2024-02-05T16:07:09.500039600Z",
     "start_time": "2024-02-05T16:07:09.498041300Z"
    }
   },
   "id": "1fb9fc8631e28182",
   "execution_count": null
  },
  {
   "cell_type": "code",
   "outputs": [],
   "source": [
    "torch.save(model.state_dict(), 'first_cnn.pth')"
   ],
   "metadata": {
    "collapsed": false,
    "ExecuteTime": {
     "end_time": "2024-02-05T16:07:09.501041500Z",
     "start_time": "2024-02-05T16:07:09.500039600Z"
    }
   },
   "id": "deea04de5a0bbe76",
   "execution_count": null
  },
  {
   "cell_type": "code",
   "outputs": [],
   "source": [
    "model = VictimCNNModelV0(3, 32, 1)  # Initialize a model with the same architecture\n",
    "model.load_state_dict(torch.load('first_cnn.pth'))\n",
    "model.to(device)  # Don't forget to move the model to the device\n",
    "pytorch_total_params = sum(p.numel() for p in model.parameters())\n",
    "print(pytorch_total_params)"
   ],
   "metadata": {
    "collapsed": false,
    "ExecuteTime": {
     "start_time": "2024-02-05T16:07:09.502043Z"
    }
   },
   "id": "901970a998af0519",
   "execution_count": null
  },
  {
   "cell_type": "code",
   "outputs": [],
   "source": [
    "from torchvision.transforms import Compose, Resize, ToTensor\n",
    "from torchvision.datasets import ImageFolder\n",
    "from torch.utils.data import DataLoader\n",
    "import matplotlib.pyplot as plt\n",
    "import numpy as np\n",
    "import torch\n",
    "\n",
    "# Define the transformation\n",
    "transformation = Compose([\n",
    "    Resize((64, 64)),\n",
    "    ToTensor()\n",
    "])\n",
    "\n",
    "# Load the images from the test folder\n",
    "test_data_dir = \"./test\"  # Replace with your test folder path\n",
    "test_dataset = ImageFolder(root=test_data_dir, transform=transformation)\n",
    "\n",
    "# Create a DataLoader for the test dataset\n",
    "test_dataloader = DataLoader(test_dataset, batch_size=32, shuffle=False)\n",
    "# Load the trained model\n",
    "model = VictimCNNModelV0(3, 32, 1)  # Initialize a model with the same architecture\n",
    "model.load_state_dict(torch.load('first_cnn.pth'))\n",
    "model.to(device)  # Don't forget to move the model to the device\n",
    "model.eval()  # Set the model to evaluation mode\n",
    "\n",
    "\n",
    "# Define a function to unnormalize and plot an image\n",
    "def imshow(img):\n",
    "    img = img / 2 + 0.5  # unnormalize\n",
    "    npimg = img.numpy()\n",
    "    #plt.imshow(np.transpose(npimg, (1, 2, 0)))\n",
    "    #plt.show()\n",
    "\n",
    "# Predict the labels for the test images\n",
    "for images, labels in test_dataloader:\n",
    "    images = images.to(device)\n",
    "    outputs = torch.sigmoid(model(images))\n",
    "    predicted = (outputs > 0.5).long()\n",
    "    \n",
    "    # Convert tensors to numpy arrays for visualization\n",
    "    predicted_np = predicted.cpu().numpy()\n",
    "    labels_np = labels.numpy()\n",
    "    \n",
    "    # Plot the images and display the actual and predicted classes\n",
    "    for i in range(len(images)):\n",
    "        print(f\"Actual class: {labels_np[i]} | Predicted class: {predicted_np[i]}\")\n",
    "        #imshow(images[i].cpu())"
   ],
   "metadata": {
    "collapsed": false,
    "ExecuteTime": {
     "start_time": "2024-02-05T16:07:09.503043100Z"
    }
   },
   "id": "6cde2151b7af0690",
   "execution_count": null
  },
  {
   "cell_type": "code",
   "outputs": [],
   "source": [
    "from torchmetrics import Accuracy\n",
    "\n",
    "def compute_accuracy(model, test_dataloader, device):\n",
    "    model.eval()  # Set the model to evaluation mode\n",
    "    accuracy = Accuracy(\"binary\").to(device)\n",
    "    total_accuracy = 0\n",
    "\n",
    "    with torch.inference_mode():\n",
    "        for images, labels in test_dataloader:\n",
    "            images = images.to(device)\n",
    "            labels = labels.to(device)\n",
    "\n",
    "            # Make predictions\n",
    "            outputs = model(images)\n",
    "            predicted = (torch.sigmoid(outputs) > 0.5).squeeze(1)\n",
    "            # Compute accuracy\n",
    "            acc = accuracy(predicted, labels)\n",
    "            total_accuracy += acc.item()\n",
    "\n",
    "    # Average accuracy across all batches\n",
    "    avg_accuracy = total_accuracy / len(test_dataloader)\n",
    "    return avg_accuracy\n",
    "\n",
    "# Usage:\n",
    "test_data_dir = \"./test\"  # Replace with your test folder path\n",
    "test_dataset = ImageFolder(root=test_data_dir, transform=transformation)\n",
    "test_dataloader = DataLoader(test_dataset, batch_size=32, shuffle=False)\n",
    "model = VictimCNNModelV0(3, 32, 1).to(device)\n",
    "model.load_state_dict(torch.load('first_cnn.pth'))\n",
    "accuracy = compute_accuracy(model, test_dataloader, device)\n",
    "print(f\"Accuracy on test data: {accuracy * 100:.2f}%\")"
   ],
   "metadata": {
    "collapsed": false,
    "ExecuteTime": {
     "start_time": "2024-02-05T16:07:09.504042300Z"
    }
   },
   "id": "b0d006f4ee4dba81",
   "execution_count": null
  },
  {
   "cell_type": "code",
   "outputs": [],
   "source": [],
   "metadata": {
    "collapsed": false,
    "ExecuteTime": {
     "start_time": "2024-02-05T16:07:09.504042300Z"
    }
   },
   "id": "44d0cb165ca1387e",
   "execution_count": null
  },
  {
   "cell_type": "code",
   "outputs": [],
   "source": [],
   "metadata": {
    "collapsed": false,
    "ExecuteTime": {
     "start_time": "2024-02-05T16:07:09.505042800Z"
    }
   },
   "id": "4b828f7ee2350140",
   "execution_count": null
  }
 ],
 "metadata": {
  "kernelspec": {
   "display_name": "Python 3",
   "language": "python",
   "name": "python3"
  },
  "language_info": {
   "codemirror_mode": {
    "name": "ipython",
    "version": 2
   },
   "file_extension": ".py",
   "mimetype": "text/x-python",
   "name": "python",
   "nbconvert_exporter": "python",
   "pygments_lexer": "ipython2",
   "version": "2.7.6"
  }
 },
 "nbformat": 4,
 "nbformat_minor": 5
}
