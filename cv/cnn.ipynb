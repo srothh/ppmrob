{
 "cells": [
  {
   "cell_type": "code",
   "execution_count": 165,
   "id": "initial_id",
   "metadata": {
    "collapsed": true,
    "ExecuteTime": {
     "end_time": "2024-01-23T15:41:03.705274700Z",
     "start_time": "2024-01-23T15:41:03.658273700Z"
    }
   },
   "outputs": [],
   "source": [
    "import torch\n",
    "import torchvision\n",
    "import torchvision.transforms as transform\n",
    "import matplotlib.pyplot as plt\n",
    "from torch.utils.data import Dataset\n",
    "from torch.utils.data import DataLoader\n",
    "from torchvision.datasets import ImageFolder\n"
   ]
  },
  {
   "cell_type": "code",
   "outputs": [
    {
     "data": {
      "text/plain": "True"
     },
     "execution_count": 166,
     "metadata": {},
     "output_type": "execute_result"
    }
   ],
   "source": [
    "torch.cuda.is_available()"
   ],
   "metadata": {
    "collapsed": false,
    "ExecuteTime": {
     "end_time": "2024-01-23T15:41:03.733275700Z",
     "start_time": "2024-01-23T15:41:03.708274500Z"
    }
   },
   "id": "e0056f016dbd1df8",
   "execution_count": 166
  },
  {
   "cell_type": "markdown",
   "source": [
    "# Section 1 - Prepare data"
   ],
   "metadata": {
    "collapsed": false
   },
   "id": "7eeab916d55c87e4"
  },
  {
   "cell_type": "markdown",
   "source": [
    "Data is loaded from a video and split into frames"
   ],
   "metadata": {
    "collapsed": false
   },
   "id": "b214a1d20ede5f9a"
  },
  {
   "cell_type": "code",
   "outputs": [],
   "source": [
    "from torchvision.transforms import Compose, Resize, ToTensor, RandomHorizontalFlip, RandomVerticalFlip, RandomRotation, ColorJitter\n",
    "from torchvision.datasets import ImageFolder\n",
    "from torch.utils.data import DataLoader\n",
    "\n",
    "# Define the transformations\n",
    "transformation = Compose([\n",
    "    Resize((64, 64)),\n",
    "    RandomHorizontalFlip(),\n",
    "    RandomVerticalFlip(),\n",
    "    RandomRotation(30),\n",
    "    ColorJitter(brightness=0.1, contrast=0.1, saturation=0.1, hue=0.1),\n",
    "    ToTensor()\n",
    "])"
   ],
   "metadata": {
    "collapsed": false,
    "ExecuteTime": {
     "end_time": "2024-01-23T15:41:03.734274700Z",
     "start_time": "2024-01-23T15:41:03.731274Z"
    }
   },
   "id": "890ca8e113a4470f",
   "execution_count": 167
  },
  {
   "cell_type": "code",
   "outputs": [
    {
     "data": {
      "text/plain": "<Figure size 640x480 with 1 Axes>",
      "image/png": "[encoded data removed]"
     },
     "metadata": {},
     "output_type": "display_data"
    }
   ],
   "source": [
    "data_dir = \"./dataset\"\n",
    "dataset = ImageFolder(root=data_dir, transform=transformation)\n",
    "data_loader = DataLoader(dataset, batch_size=32, shuffle=True)\n",
    "img, l = None, None\n",
    "for images, labels in data_loader:\n",
    "    img, l = images[0], labels[0]\n",
    "    break\n",
    "img_test = img.permute(1, 2, 0).numpy()\n",
    "plt.imshow(img_test)\n",
    "plt.title(f\"Label: {l}\")\n",
    "plt.show()\n"
   ],
   "metadata": {
    "collapsed": false,
    "ExecuteTime": {
     "end_time": "2024-01-23T15:41:04.629311900Z",
     "start_time": "2024-01-23T15:41:03.736272700Z"
    }
   },
   "id": "151530569521fd6d",
   "execution_count": 168
  },
  {
   "cell_type": "markdown",
   "source": [],
   "metadata": {
    "collapsed": false
   },
   "id": "ef73a014c644bac6"
  },
  {
   "cell_type": "code",
   "outputs": [
    {
     "data": {
      "text/plain": "torch.Size([3, 64, 64])"
     },
     "execution_count": 169,
     "metadata": {},
     "output_type": "execute_result"
    }
   ],
   "source": [
    "img.shape"
   ],
   "metadata": {
    "collapsed": false,
    "ExecuteTime": {
     "end_time": "2024-01-23T15:41:04.629311900Z",
     "start_time": "2024-01-23T15:41:04.622311800Z"
    }
   },
   "id": "d22a13f8b90b0ed9",
   "execution_count": 169
  },
  {
   "cell_type": "code",
   "outputs": [],
   "source": [
    "# HYPERPARAMETERS\n",
    "test_len = 0.3\n",
    "batch_size = 128\n",
    "kernel_size = 3\n",
    "stride = 1\n",
    "padding = 1"
   ],
   "metadata": {
    "collapsed": false,
    "ExecuteTime": {
     "end_time": "2024-01-23T15:41:04.637311400Z",
     "start_time": "2024-01-23T15:41:04.626311900Z"
    }
   },
   "id": "681f023702adb483",
   "execution_count": 170
  },
  {
   "cell_type": "code",
   "outputs": [],
   "source": [
    "from torch.utils.data import random_split\n",
    "\n",
    "train_size = int((1-test_len) * len(dataset))\n",
    "test_size = int(test_len * len(dataset))\n",
    "extra = len(dataset) - (train_size + test_size)\n",
    "train_size = train_size + extra if extra > 0 else train_size\n",
    "train_dataset, test_dataset = random_split(dataset, [train_size, test_size])\n",
    "train_dataloader = DataLoader(train_dataset, batch_size=32, shuffle=True)\n",
    "test_dataloader = DataLoader(test_dataset, batch_size=32, shuffle=False) # no need to shuffle test data\n",
    "device = \"cuda\" if torch.cuda.is_available() else \"cpu\""
   ],
   "metadata": {
    "collapsed": false,
    "ExecuteTime": {
     "end_time": "2024-01-23T15:41:04.686311200Z",
     "start_time": "2024-01-23T15:41:04.638312Z"
    }
   },
   "id": "9b8b8b6afcd68890",
   "execution_count": 171
  },
  {
   "cell_type": "code",
   "outputs": [],
   "source": [
    "# Define NN\n",
    "from torch import nn\n",
    "\n",
    "class VictimCNNModelV0(nn.Module):\n",
    "    def __init__(self, input_channels, hidden_units, output_size):\n",
    "        super().__init__()\n",
    "        self.conv1 = nn.Sequential(\n",
    "            nn.Conv2d(\n",
    "                in_channels=input_channels,\n",
    "                out_channels=hidden_units,\n",
    "                kernel_size=kernel_size,\n",
    "                stride=stride,\n",
    "                padding=padding),\n",
    "            nn.ReLU(),\n",
    "            nn.Conv2d(\n",
    "                in_channels=hidden_units,\n",
    "                out_channels=hidden_units,\n",
    "                kernel_size=kernel_size,\n",
    "                stride=stride,\n",
    "                padding=padding),\n",
    "            nn.ReLU(),\n",
    "            nn.MaxPool2d(kernel_size=2)\n",
    "        )\n",
    "        self.conv2 = nn.Sequential(\n",
    "            nn.Conv2d(\n",
    "                in_channels=hidden_units,\n",
    "                out_channels=hidden_units,\n",
    "                kernel_size=kernel_size,\n",
    "                stride=stride,\n",
    "                padding=padding),\n",
    "            nn.ReLU(),\n",
    "            nn.Conv2d(\n",
    "                in_channels=hidden_units,\n",
    "                out_channels=hidden_units,\n",
    "                kernel_size=kernel_size,\n",
    "                stride=stride,\n",
    "                padding=padding),\n",
    "            nn.ReLU(),\n",
    "            nn.MaxPool2d(kernel_size=2)\n",
    "        )\n",
    "        self.classifier = nn.Sequential(\n",
    "            nn.Flatten(),\n",
    "            nn.Linear(\n",
    "                in_features=hidden_units*16*16,\n",
    "                out_features=output_size)\n",
    "        )\n",
    "    def forward(self, x):\n",
    "        x = self.conv1(x)\n",
    "        x = self.conv2(x)\n",
    "        x = self.classifier(x)\n",
    "        return x"
   ],
   "metadata": {
    "collapsed": false,
    "ExecuteTime": {
     "end_time": "2024-01-23T15:41:04.687311600Z",
     "start_time": "2024-01-23T15:41:04.648311900Z"
    }
   },
   "id": "64af8d04e2dc80af",
   "execution_count": 172
  },
  {
   "cell_type": "code",
   "outputs": [
    {
     "data": {
      "text/plain": "'cuda'"
     },
     "execution_count": 173,
     "metadata": {},
     "output_type": "execute_result"
    }
   ],
   "source": [
    "device"
   ],
   "metadata": {
    "collapsed": false,
    "ExecuteTime": {
     "end_time": "2024-01-23T15:41:04.687311600Z",
     "start_time": "2024-01-23T15:41:04.655311800Z"
    }
   },
   "id": "4e1f82ff1a54fe04",
   "execution_count": 173
  },
  {
   "cell_type": "code",
   "outputs": [],
   "source": [
    "model = VictimCNNModelV0(3, 32, 1).to(device)"
   ],
   "metadata": {
    "collapsed": false,
    "ExecuteTime": {
     "end_time": "2024-01-23T15:41:04.688312400Z",
     "start_time": "2024-01-23T15:41:04.667311600Z"
    }
   },
   "id": "f997ae76db52b39b",
   "execution_count": 174
  },
  {
   "cell_type": "code",
   "outputs": [
    {
     "data": {
      "text/plain": "OrderedDict([('conv1.0.weight',\n              tensor([[[[ 0.1084,  0.1443, -0.0462],\n                        [ 0.1162,  0.0145,  0.1804],\n                        [ 0.1662,  0.1887, -0.1346]],\n              \n                       [[-0.0816,  0.0866,  0.0374],\n                        [-0.1236,  0.0914,  0.1622],\n                        [ 0.1213,  0.1064, -0.1116]],\n              \n                       [[ 0.1621, -0.1172,  0.0732],\n                        [-0.0675,  0.0586, -0.0998],\n                        [-0.0384, -0.0556,  0.0127]]],\n              \n              \n                      [[[ 0.1716, -0.0818, -0.0504],\n                        [ 0.0790, -0.0244, -0.1082],\n                        [ 0.1260,  0.1327,  0.1551]],\n              \n                       [[-0.0172, -0.1469, -0.1497],\n                        [-0.0705,  0.0084, -0.1922],\n                        [-0.1481, -0.1820,  0.1608]],\n              \n                       [[-0.1036, -0.1871,  0.0287],\n                        [-0.0526,  0.0856, -0.1462],\n                        [-0.0417,  0.0200,  0.0967]]],\n              \n              \n                      [[[ 0.1525,  0.1901, -0.0523],\n                        [-0.1559, -0.0759, -0.0180],\n                        [ 0.0341, -0.0518, -0.1063]],\n              \n                       [[-0.0107, -0.0412,  0.1768],\n                        [-0.1144, -0.0656, -0.0127],\n                        [ 0.1407,  0.0410, -0.1171]],\n              \n                       [[-0.0625, -0.1715, -0.1294],\n                        [-0.0334,  0.0517, -0.1745],\n                        [ 0.0462, -0.1542,  0.1798]]],\n              \n              \n                      [[[ 0.0466,  0.1804,  0.0425],\n                        [-0.1609, -0.1811,  0.1579],\n                        [-0.0367, -0.1495,  0.1023]],\n              \n                       [[ 0.0325, -0.1333, -0.1140],\n                        [ 0.0826, -0.1760,  0.0580],\n                        [ 0.1633,  0.1871,  0.1669]],\n              \n                       [[-0.0566, -0.1451, -0.0884],\n                        [ 0.0407, -0.1091,  0.0053],\n                        [ 0.0717,  0.0074,  0.0359]]],\n              \n              \n                      [[[-0.1089,  0.0338, -0.0007],\n                        [ 0.1902,  0.1413, -0.1805],\n                        [-0.1180,  0.1911, -0.0918]],\n              \n                       [[ 0.0110,  0.0655,  0.0392],\n                        [-0.0829, -0.1597, -0.0039],\n                        [ 0.1276, -0.1518,  0.0572]],\n              \n                       [[ 0.0387, -0.1763,  0.1174],\n                        [-0.0211,  0.1600,  0.1504],\n                        [ 0.1337, -0.1705, -0.0706]]],\n              \n              \n                      [[[-0.0167, -0.0021,  0.1023],\n                        [-0.1253, -0.1063,  0.1748],\n                        [ 0.0090,  0.1848,  0.1767]],\n              \n                       [[-0.0114, -0.1214, -0.0205],\n                        [-0.0294, -0.0738,  0.0848],\n                        [ 0.1680, -0.1062, -0.0947]],\n              \n                       [[ 0.1116,  0.1417, -0.1404],\n                        [-0.1539, -0.1462, -0.0908],\n                        [-0.0226,  0.0419,  0.1649]]],\n              \n              \n                      [[[ 0.0478, -0.1371,  0.1004],\n                        [ 0.0390,  0.0980,  0.1044],\n                        [-0.0827, -0.0709, -0.0387]],\n              \n                       [[ 0.0215,  0.0863, -0.1898],\n                        [-0.0648,  0.0815,  0.1887],\n                        [ 0.0275,  0.0459,  0.0822]],\n              \n                       [[-0.1647,  0.1480,  0.1689],\n                        [-0.1912,  0.1070, -0.1541],\n                        [ 0.1697,  0.1832, -0.0262]]],\n              \n              \n                      [[[-0.1750, -0.0582, -0.0263],\n                        [ 0.1754,  0.0016,  0.0250],\n                        [ 0.0765, -0.0233, -0.0432]],\n              \n                       [[-0.1456,  0.0934, -0.1150],\n                        [-0.1220,  0.1711, -0.0433],\n                        [ 0.0874,  0.1242, -0.0769]],\n              \n                       [[-0.0242, -0.1228,  0.1050],\n                        [-0.1493,  0.1488,  0.1388],\n                        [ 0.1622, -0.0662,  0.0816]]],\n              \n              \n                      [[[-0.0735,  0.0800, -0.1219],\n                        [-0.0679,  0.0050,  0.0142],\n                        [-0.1149,  0.1129,  0.1110]],\n              \n                       [[-0.1914, -0.1198,  0.1201],\n                        [ 0.1155,  0.1282,  0.1691],\n                        [-0.1129,  0.1025, -0.1212]],\n              \n                       [[-0.0173,  0.0013,  0.0783],\n                        [ 0.1483,  0.1139, -0.1509],\n                        [-0.1303, -0.1033, -0.0789]]],\n              \n              \n                      [[[-0.0531,  0.0881, -0.0987],\n                        [-0.1675,  0.1211,  0.0543],\n                        [ 0.0272,  0.0020, -0.0922]],\n              \n                       [[-0.1695,  0.1891, -0.1326],\n                        [ 0.0590,  0.1091, -0.1633],\n                        [-0.0761, -0.0695, -0.0680]],\n              \n                       [[-0.0756, -0.0642, -0.0707],\n                        [-0.1305,  0.0508, -0.0058],\n                        [-0.0070,  0.1878,  0.1308]]],\n              \n              \n                      [[[-0.0375,  0.0492,  0.0726],\n                        [ 0.0768, -0.0824,  0.0725],\n                        [ 0.1267,  0.1460, -0.1642]],\n              \n                       [[-0.1868,  0.0222,  0.1914],\n                        [ 0.0951, -0.1453,  0.0152],\n                        [-0.1359, -0.0046, -0.0499]],\n              \n                       [[-0.1386, -0.0607, -0.1549],\n                        [ 0.1150,  0.0434, -0.1707],\n                        [ 0.0864,  0.1300, -0.0341]]],\n              \n              \n                      [[[-0.1157,  0.1592, -0.1122],\n                        [-0.0200, -0.0210,  0.1260],\n                        [ 0.1820, -0.0383,  0.0595]],\n              \n                       [[ 0.1871,  0.0190,  0.1460],\n                        [-0.1131, -0.0465, -0.1763],\n                        [ 0.0528, -0.1220,  0.1110]],\n              \n                       [[-0.1827,  0.0787,  0.1064],\n                        [-0.1531,  0.1651,  0.1475],\n                        [-0.0773, -0.0148, -0.1280]]],\n              \n              \n                      [[[-0.0643,  0.0821, -0.1829],\n                        [-0.0069, -0.0837, -0.1563],\n                        [-0.0784, -0.0794, -0.0213]],\n              \n                       [[ 0.0722, -0.1848,  0.0686],\n                        [ 0.0958,  0.1498,  0.1009],\n                        [-0.1797, -0.0159,  0.1070]],\n              \n                       [[-0.0274,  0.0566, -0.1417],\n                        [-0.0529, -0.0147, -0.1040],\n                        [ 0.1752, -0.1365,  0.0791]]],\n              \n              \n                      [[[ 0.1169,  0.0166, -0.1029],\n                        [-0.1215,  0.0762, -0.1376],\n                        [-0.1188, -0.1200,  0.0194]],\n              \n                       [[-0.0950,  0.1896, -0.1033],\n                        [-0.0959,  0.0564, -0.0949],\n                        [ 0.1544,  0.1892, -0.0951]],\n              \n                       [[ 0.1400, -0.1343, -0.0879],\n                        [ 0.0267,  0.0643, -0.1632],\n                        [-0.0540, -0.0462, -0.0034]]],\n              \n              \n                      [[[-0.1642, -0.0361, -0.1873],\n                        [ 0.1216, -0.0836,  0.0281],\n                        [-0.1536, -0.1059,  0.1544]],\n              \n                       [[ 0.0187,  0.0900,  0.0954],\n                        [-0.1172,  0.1400,  0.0347],\n                        [ 0.1662,  0.0480,  0.1305]],\n              \n                       [[ 0.0119,  0.0456, -0.0333],\n                        [ 0.1633, -0.0138,  0.0519],\n                        [ 0.1236,  0.1169, -0.1288]]],\n              \n              \n                      [[[-0.0711, -0.1099,  0.1319],\n                        [-0.0802,  0.0180, -0.1425],\n                        [ 0.0044, -0.1525, -0.1044]],\n              \n                       [[-0.0078, -0.0223,  0.1091],\n                        [-0.1707, -0.1728, -0.1347],\n                        [ 0.1059, -0.0922,  0.1152]],\n              \n                       [[-0.0567, -0.0309, -0.0791],\n                        [ 0.1302, -0.0618, -0.0407],\n                        [ 0.0890,  0.0351, -0.0515]]],\n              \n              \n                      [[[ 0.1464,  0.1920,  0.1013],\n                        [-0.1360, -0.1222,  0.0071],\n                        [-0.1715, -0.1208, -0.0232]],\n              \n                       [[-0.1458,  0.0976, -0.0510],\n                        [ 0.0678, -0.0260, -0.0286],\n                        [-0.0175,  0.1723, -0.0200]],\n              \n                       [[ 0.0025,  0.1264,  0.1488],\n                        [-0.1189,  0.1197,  0.0442],\n                        [-0.1525,  0.0794, -0.1718]]],\n              \n              \n                      [[[-0.1834,  0.1475,  0.0790],\n                        [ 0.1887,  0.1609, -0.0106],\n                        [-0.0953, -0.1405, -0.1629]],\n              \n                       [[-0.0415, -0.0825, -0.1755],\n                        [-0.1725, -0.1002, -0.1239],\n                        [-0.0359,  0.0968, -0.0884]],\n              \n                       [[-0.0734, -0.0962,  0.0551],\n                        [ 0.1267, -0.0081,  0.0945],\n                        [ 0.1312, -0.1210,  0.0842]]],\n              \n              \n                      [[[ 0.0091,  0.0490, -0.0931],\n                        [-0.0496, -0.1280, -0.0430],\n                        [-0.1895,  0.0555,  0.0611]],\n              \n                       [[ 0.1721,  0.0221, -0.1661],\n                        [-0.0767,  0.1166,  0.0526],\n                        [-0.0921, -0.0976,  0.0904]],\n              \n                       [[ 0.0389, -0.1402, -0.0514],\n                        [ 0.1675,  0.0236, -0.0368],\n                        [-0.0222, -0.1324, -0.1611]]],\n              \n              \n                      [[[-0.0838, -0.1324,  0.1655],\n                        [-0.0880,  0.0076, -0.1240],\n                        [ 0.1447, -0.1586, -0.1801]],\n              \n                       [[-0.0490,  0.0121,  0.0827],\n                        [-0.1333, -0.1576, -0.0147],\n                        [-0.1061,  0.1115,  0.1787]],\n              \n                       [[-0.1889, -0.0106,  0.0939],\n                        [-0.1858, -0.1827, -0.0117],\n                        [-0.0596, -0.1094, -0.0015]]],\n              \n              \n                      [[[ 0.0974, -0.0655,  0.0717],\n                        [-0.0388,  0.1917, -0.0546],\n                        [ 0.0337,  0.0242, -0.0160]],\n              \n                       [[-0.0673,  0.1602, -0.1632],\n                        [ 0.1770, -0.1782,  0.1124],\n                        [-0.1647,  0.0885,  0.0756]],\n              \n                       [[ 0.1247,  0.0344, -0.0832],\n                        [ 0.0327,  0.0290, -0.0757],\n                        [-0.1385,  0.1924,  0.1292]]],\n              \n              \n                      [[[-0.1754, -0.0391, -0.0965],\n                        [-0.1133, -0.0149,  0.1922],\n                        [-0.0874,  0.1663,  0.0982]],\n              \n                       [[-0.1160, -0.0129,  0.1087],\n                        [ 0.0718,  0.0683,  0.1104],\n                        [-0.0791, -0.1805,  0.1164]],\n              \n                       [[-0.0987, -0.0253,  0.1443],\n                        [-0.0942,  0.1689,  0.0542],\n                        [ 0.1586,  0.1734, -0.1430]]],\n              \n              \n                      [[[-0.1853, -0.0933,  0.1212],\n                        [-0.0483,  0.1313,  0.1912],\n                        [ 0.1306,  0.0638,  0.0242]],\n              \n                       [[ 0.0306,  0.1264, -0.1578],\n                        [ 0.1574,  0.0835,  0.0996],\n                        [-0.0179,  0.1432,  0.0128]],\n              \n                       [[ 0.1258, -0.0995, -0.0709],\n                        [ 0.0236,  0.1218, -0.1576],\n                        [ 0.0118, -0.0049,  0.0989]]],\n              \n              \n                      [[[ 0.0081,  0.0582,  0.1766],\n                        [-0.1247,  0.1191,  0.1822],\n                        [ 0.1498, -0.0028,  0.0589]],\n              \n                       [[-0.0164,  0.0436,  0.0861],\n                        [ 0.1656, -0.0133, -0.0765],\n                        [ 0.1421, -0.0083, -0.0832]],\n              \n                       [[ 0.1276, -0.0485, -0.0702],\n                        [ 0.1084,  0.1398,  0.1799],\n                        [ 0.1537,  0.0337,  0.1909]]],\n              \n              \n                      [[[ 0.0386, -0.0155, -0.0941],\n                        [-0.1061,  0.1345,  0.0033],\n                        [ 0.1526,  0.0160, -0.0893]],\n              \n                       [[ 0.1668, -0.0942,  0.1518],\n                        [-0.1899, -0.0055,  0.1157],\n                        [ 0.0454,  0.0991, -0.0706]],\n              \n                       [[ 0.0445, -0.0333, -0.0322],\n                        [ 0.1232, -0.1677, -0.1410],\n                        [ 0.1640, -0.0038,  0.1883]]],\n              \n              \n                      [[[ 0.1233, -0.1183,  0.0656],\n                        [ 0.0880,  0.0567,  0.1194],\n                        [ 0.1193,  0.0272, -0.0437]],\n              \n                       [[-0.0598, -0.0098, -0.0789],\n                        [ 0.1894, -0.0569,  0.0956],\n                        [-0.1172,  0.1856, -0.0075]],\n              \n                       [[ 0.1070, -0.1466,  0.1068],\n                        [-0.0718,  0.0288,  0.1238],\n                        [-0.0579,  0.1009, -0.1343]]],\n              \n              \n                      [[[ 0.0601, -0.0592,  0.0672],\n                        [ 0.1703, -0.0305,  0.0629],\n                        [-0.1753, -0.1638,  0.1605]],\n              \n                       [[-0.0831, -0.0198,  0.1116],\n                        [-0.1583, -0.0754, -0.1912],\n                        [ 0.1600,  0.0908,  0.0249]],\n              \n                       [[ 0.1245,  0.0959, -0.1281],\n                        [ 0.1667,  0.1874, -0.0467],\n                        [-0.0347,  0.1799,  0.1033]]],\n              \n              \n                      [[[-0.0884,  0.1393,  0.0459],\n                        [-0.0300, -0.1168,  0.0225],\n                        [-0.1176,  0.1307,  0.1108]],\n              \n                       [[-0.0092, -0.0962,  0.0148],\n                        [-0.1844,  0.0320,  0.0113],\n                        [-0.1101, -0.0173, -0.1731]],\n              \n                       [[ 0.0187, -0.1190,  0.0070],\n                        [ 0.0542, -0.0863, -0.0309],\n                        [-0.0557,  0.0032, -0.0758]]],\n              \n              \n                      [[[-0.1689,  0.1809, -0.0546],\n                        [ 0.0787, -0.1743, -0.0576],\n                        [-0.0593,  0.1306, -0.0010]],\n              \n                       [[-0.0041, -0.0561,  0.0929],\n                        [ 0.0844,  0.0263, -0.0617],\n                        [ 0.1370, -0.0347,  0.0104]],\n              \n                       [[-0.1258, -0.1681,  0.1605],\n                        [ 0.0111,  0.1728,  0.0691],\n                        [ 0.0865,  0.1888,  0.1540]]],\n              \n              \n                      [[[-0.1332,  0.0058, -0.0512],\n                        [ 0.0136, -0.0155,  0.1351],\n                        [ 0.1853, -0.0235,  0.1695]],\n              \n                       [[ 0.0629, -0.0305, -0.0954],\n                        [-0.1120,  0.0911,  0.0342],\n                        [ 0.0435, -0.0354, -0.1821]],\n              \n                       [[ 0.0192,  0.1734, -0.1176],\n                        [ 0.1046,  0.0687, -0.0545],\n                        [-0.1460,  0.0742,  0.0309]]],\n              \n              \n                      [[[ 0.0870,  0.0464, -0.0159],\n                        [-0.0689, -0.0976, -0.0806],\n                        [ 0.1081,  0.1891, -0.0413]],\n              \n                       [[-0.0949,  0.0078, -0.1332],\n                        [-0.1296, -0.0163,  0.1607],\n                        [ 0.0678, -0.1041,  0.1228]],\n              \n                       [[ 0.0137, -0.1324,  0.1565],\n                        [-0.1246,  0.1466, -0.0529],\n                        [ 0.1911, -0.1178,  0.0899]]],\n              \n              \n                      [[[ 0.0862,  0.0458,  0.1827],\n                        [ 0.0960,  0.0991,  0.1565],\n                        [-0.0512, -0.0881,  0.0579]],\n              \n                       [[ 0.0951, -0.0862, -0.1049],\n                        [-0.1480, -0.1415,  0.1133],\n                        [ 0.1858,  0.0081, -0.1627]],\n              \n                       [[ 0.1667, -0.1084, -0.0548],\n                        [ 0.0862, -0.1560,  0.0839],\n                        [-0.0380, -0.0387,  0.0916]]]], device='cuda:0')),\n             ('conv1.0.bias',\n              tensor([-0.0617, -0.1139,  0.1310, -0.0590, -0.0650, -0.0863,  0.1724, -0.0916,\n                       0.1195, -0.1458, -0.1809,  0.1690,  0.0695, -0.0069, -0.0710, -0.1265,\n                       0.0905,  0.1504, -0.1796,  0.0971,  0.0085, -0.0578,  0.0923, -0.0732,\n                       0.0718,  0.0914,  0.0750, -0.0797, -0.0243,  0.1678, -0.0206, -0.1156],\n                     device='cuda:0')),\n             ('conv1.2.weight',\n              tensor([[[[-0.0168,  0.0469, -0.0536],\n                        [ 0.0198, -0.0252, -0.0070],\n                        [-0.0048, -0.0481,  0.0159]],\n              \n                       [[-0.0533,  0.0201, -0.0160],\n                        [ 0.0329,  0.0184, -0.0043],\n                        [-0.0501, -0.0204, -0.0185]],\n              \n                       [[ 0.0278,  0.0077,  0.0309],\n                        [-0.0530, -0.0012,  0.0031],\n                        [-0.0524,  0.0284, -0.0076]],\n              \n                       ...,\n              \n                       [[ 0.0518,  0.0101,  0.0466],\n                        [ 0.0315, -0.0015,  0.0293],\n                        [-0.0083,  0.0397, -0.0533]],\n              \n                       [[-0.0082,  0.0242, -0.0144],\n                        [ 0.0477,  0.0539,  0.0484],\n                        [ 0.0379, -0.0417, -0.0217]],\n              \n                       [[-0.0544,  0.0114,  0.0006],\n                        [-0.0042,  0.0086,  0.0473],\n                        [-0.0171,  0.0135, -0.0265]]],\n              \n              \n                      [[[ 0.0435, -0.0169, -0.0517],\n                        [ 0.0454, -0.0279, -0.0083],\n                        [-0.0392, -0.0035, -0.0028]],\n              \n                       [[ 0.0156, -0.0235,  0.0579],\n                        [ 0.0473, -0.0318,  0.0233],\n                        [-0.0291, -0.0162, -0.0164]],\n              \n                       [[-0.0359,  0.0469,  0.0561],\n                        [-0.0174,  0.0058,  0.0156],\n                        [-0.0415,  0.0422, -0.0239]],\n              \n                       ...,\n              \n                       [[-0.0084, -0.0384,  0.0413],\n                        [-0.0353, -0.0511, -0.0377],\n                        [-0.0027, -0.0405, -0.0303]],\n              \n                       [[-0.0038,  0.0573, -0.0341],\n                        [-0.0081, -0.0447,  0.0128],\n                        [ 0.0093,  0.0006, -0.0100]],\n              \n                       [[ 0.0229,  0.0403,  0.0011],\n                        [-0.0452, -0.0311, -0.0288],\n                        [ 0.0477, -0.0122,  0.0209]]],\n              \n              \n                      [[[ 0.0080,  0.0439,  0.0364],\n                        [ 0.0399,  0.0216, -0.0420],\n                        [-0.0322,  0.0290, -0.0428]],\n              \n                       [[-0.0083,  0.0452,  0.0415],\n                        [ 0.0280, -0.0227, -0.0400],\n                        [-0.0118, -0.0296, -0.0007]],\n              \n                       [[-0.0115, -0.0336,  0.0426],\n                        [ 0.0278, -0.0181,  0.0076],\n                        [-0.0105,  0.0535,  0.0346]],\n              \n                       ...,\n              \n                       [[ 0.0086, -0.0142,  0.0051],\n                        [ 0.0419, -0.0577,  0.0216],\n                        [ 0.0512, -0.0454,  0.0552]],\n              \n                       [[-0.0154,  0.0311,  0.0490],\n                        [ 0.0128,  0.0009,  0.0282],\n                        [-0.0027, -0.0515, -0.0287]],\n              \n                       [[ 0.0137, -0.0571, -0.0469],\n                        [ 0.0153,  0.0334, -0.0470],\n                        [ 0.0519,  0.0163,  0.0478]]],\n              \n              \n                      ...,\n              \n              \n                      [[[ 0.0472, -0.0104, -0.0286],\n                        [-0.0016, -0.0576,  0.0223],\n                        [-0.0131, -0.0232, -0.0430]],\n              \n                       [[ 0.0587,  0.0296,  0.0325],\n                        [-0.0305, -0.0172,  0.0512],\n                        [-0.0096, -0.0432,  0.0072]],\n              \n                       [[-0.0136,  0.0384,  0.0088],\n                        [-0.0563, -0.0308,  0.0182],\n                        [ 0.0338, -0.0554, -0.0233]],\n              \n                       ...,\n              \n                       [[-0.0178, -0.0518,  0.0378],\n                        [ 0.0401, -0.0045,  0.0430],\n                        [-0.0183,  0.0515,  0.0164]],\n              \n                       [[-0.0377,  0.0100, -0.0172],\n                        [ 0.0267, -0.0390, -0.0247],\n                        [-0.0305,  0.0431,  0.0426]],\n              \n                       [[-0.0483,  0.0334,  0.0545],\n                        [-0.0376,  0.0262,  0.0568],\n                        [ 0.0075,  0.0333, -0.0051]]],\n              \n              \n                      [[[-0.0293,  0.0153,  0.0568],\n                        [-0.0411,  0.0029,  0.0117],\n                        [-0.0081,  0.0003,  0.0439]],\n              \n                       [[-0.0265, -0.0076,  0.0535],\n                        [ 0.0527,  0.0450, -0.0584],\n                        [ 0.0357, -0.0275,  0.0524]],\n              \n                       [[ 0.0006,  0.0126, -0.0460],\n                        [-0.0362, -0.0369, -0.0412],\n                        [ 0.0256,  0.0184, -0.0314]],\n              \n                       ...,\n              \n                       [[ 0.0551, -0.0203, -0.0089],\n                        [-0.0413, -0.0500,  0.0282],\n                        [ 0.0424, -0.0232, -0.0550]],\n              \n                       [[ 0.0149,  0.0409,  0.0156],\n                        [ 0.0119, -0.0291, -0.0246],\n                        [-0.0066,  0.0032, -0.0386]],\n              \n                       [[-0.0240, -0.0304, -0.0195],\n                        [ 0.0128,  0.0272, -0.0550],\n                        [-0.0475,  0.0238, -0.0021]]],\n              \n              \n                      [[[ 0.0010, -0.0440,  0.0571],\n                        [ 0.0195, -0.0290,  0.0314],\n                        [-0.0167, -0.0374, -0.0585]],\n              \n                       [[-0.0086, -0.0521, -0.0526],\n                        [ 0.0403, -0.0023,  0.0359],\n                        [-0.0113, -0.0570,  0.0210]],\n              \n                       [[ 0.0437, -0.0008,  0.0204],\n                        [-0.0299, -0.0244,  0.0366],\n                        [ 0.0576, -0.0279,  0.0582]],\n              \n                       ...,\n              \n                       [[-0.0447, -0.0035,  0.0373],\n                        [-0.0042,  0.0079,  0.0216],\n                        [-0.0136,  0.0120, -0.0315]],\n              \n                       [[ 0.0193, -0.0543, -0.0551],\n                        [ 0.0496, -0.0329, -0.0293],\n                        [ 0.0020, -0.0101,  0.0126]],\n              \n                       [[ 0.0554, -0.0321, -0.0263],\n                        [-0.0510, -0.0532,  0.0455],\n                        [-0.0385,  0.0158,  0.0315]]]], device='cuda:0')),\n             ('conv1.2.bias',\n              tensor([-0.0260,  0.0242, -0.0531,  0.0287, -0.0193,  0.0334,  0.0313,  0.0570,\n                       0.0406, -0.0274,  0.0500, -0.0141, -0.0533,  0.0279,  0.0530, -0.0024,\n                       0.0442,  0.0136, -0.0458, -0.0185, -0.0309, -0.0583,  0.0385,  0.0101,\n                       0.0233, -0.0331, -0.0317, -0.0264, -0.0178,  0.0221, -0.0143,  0.0464],\n                     device='cuda:0')),\n             ('conv2.0.weight',\n              tensor([[[[-0.0211,  0.0077, -0.0210],\n                        [-0.0095, -0.0552,  0.0292],\n                        [-0.0121, -0.0477,  0.0322]],\n              \n                       [[ 0.0170,  0.0205, -0.0413],\n                        [ 0.0166, -0.0328,  0.0401],\n                        [ 0.0023,  0.0304,  0.0368]],\n              \n                       [[-0.0028,  0.0051, -0.0129],\n                        [ 0.0436,  0.0268,  0.0367],\n                        [ 0.0520,  0.0274,  0.0014]],\n              \n                       ...,\n              \n                       [[-0.0105,  0.0021,  0.0091],\n                        [ 0.0143, -0.0175, -0.0225],\n                        [-0.0071, -0.0085, -0.0153]],\n              \n                       [[ 0.0453, -0.0461,  0.0111],\n                        [ 0.0232,  0.0578,  0.0406],\n                        [ 0.0463, -0.0270, -0.0519]],\n              \n                       [[ 0.0336,  0.0327,  0.0379],\n                        [ 0.0428, -0.0018,  0.0389],\n                        [ 0.0154,  0.0090, -0.0532]]],\n              \n              \n                      [[[-0.0468, -0.0161, -0.0432],\n                        [-0.0034,  0.0499,  0.0537],\n                        [-0.0007,  0.0040,  0.0464]],\n              \n                       [[-0.0572, -0.0073, -0.0579],\n                        [ 0.0545,  0.0264,  0.0278],\n                        [ 0.0151, -0.0542,  0.0156]],\n              \n                       [[-0.0246,  0.0539, -0.0292],\n                        [ 0.0047, -0.0174, -0.0185],\n                        [-0.0385,  0.0155,  0.0180]],\n              \n                       ...,\n              \n                       [[-0.0475, -0.0239,  0.0332],\n                        [ 0.0392,  0.0062,  0.0466],\n                        [-0.0489, -0.0127,  0.0526]],\n              \n                       [[ 0.0092,  0.0160, -0.0510],\n                        [-0.0084,  0.0030, -0.0140],\n                        [-0.0032,  0.0105, -0.0164]],\n              \n                       [[-0.0173, -0.0351, -0.0154],\n                        [ 0.0199,  0.0083,  0.0419],\n                        [-0.0453, -0.0201, -0.0577]]],\n              \n              \n                      [[[ 0.0329, -0.0145, -0.0053],\n                        [ 0.0264,  0.0224,  0.0070],\n                        [-0.0401, -0.0548,  0.0026]],\n              \n                       [[ 0.0244,  0.0094, -0.0386],\n                        [ 0.0350,  0.0106,  0.0272],\n                        [ 0.0173, -0.0449,  0.0127]],\n              \n                       [[-0.0305,  0.0264,  0.0228],\n                        [ 0.0585,  0.0073, -0.0570],\n                        [-0.0515,  0.0477,  0.0081]],\n              \n                       ...,\n              \n                       [[-0.0014, -0.0450, -0.0103],\n                        [-0.0048,  0.0037,  0.0291],\n                        [ 0.0549, -0.0481,  0.0265]],\n              \n                       [[ 0.0583, -0.0363, -0.0222],\n                        [ 0.0433, -0.0356, -0.0548],\n                        [ 0.0395,  0.0347,  0.0260]],\n              \n                       [[ 0.0390,  0.0399,  0.0172],\n                        [ 0.0232, -0.0225, -0.0440],\n                        [ 0.0098, -0.0338, -0.0511]]],\n              \n              \n                      ...,\n              \n              \n                      [[[ 0.0091, -0.0535, -0.0310],\n                        [-0.0286,  0.0572,  0.0304],\n                        [ 0.0141,  0.0030, -0.0419]],\n              \n                       [[-0.0321, -0.0170, -0.0190],\n                        [ 0.0182,  0.0238,  0.0274],\n                        [-0.0491, -0.0375,  0.0325]],\n              \n                       [[ 0.0051,  0.0425,  0.0583],\n                        [-0.0415, -0.0469,  0.0344],\n                        [ 0.0420,  0.0359,  0.0179]],\n              \n                       ...,\n              \n                       [[-0.0220, -0.0239,  0.0015],\n                        [-0.0216,  0.0470,  0.0284],\n                        [-0.0138,  0.0255,  0.0417]],\n              \n                       [[ 0.0530,  0.0481,  0.0041],\n                        [ 0.0343,  0.0374, -0.0478],\n                        [-0.0545, -0.0521,  0.0038]],\n              \n                       [[-0.0164,  0.0118, -0.0400],\n                        [-0.0503,  0.0076,  0.0550],\n                        [ 0.0132, -0.0279, -0.0409]]],\n              \n              \n                      [[[-0.0213, -0.0485,  0.0441],\n                        [ 0.0203,  0.0500, -0.0297],\n                        [ 0.0517,  0.0110, -0.0489]],\n              \n                       [[-0.0523,  0.0481, -0.0467],\n                        [ 0.0133, -0.0504,  0.0195],\n                        [-0.0432,  0.0032, -0.0318]],\n              \n                       [[ 0.0148, -0.0188,  0.0091],\n                        [-0.0069,  0.0423,  0.0403],\n                        [ 0.0462,  0.0523, -0.0483]],\n              \n                       ...,\n              \n                       [[ 0.0097, -0.0482, -0.0557],\n                        [ 0.0551,  0.0043,  0.0525],\n                        [-0.0551, -0.0504,  0.0133]],\n              \n                       [[ 0.0247,  0.0033,  0.0405],\n                        [ 0.0342,  0.0133,  0.0041],\n                        [-0.0469, -0.0583,  0.0188]],\n              \n                       [[ 0.0517,  0.0228, -0.0042],\n                        [-0.0035, -0.0215, -0.0226],\n                        [ 0.0231,  0.0358,  0.0423]]],\n              \n              \n                      [[[-0.0197,  0.0141, -0.0213],\n                        [-0.0504,  0.0042,  0.0317],\n                        [ 0.0306,  0.0089, -0.0118]],\n              \n                       [[ 0.0093, -0.0313, -0.0518],\n                        [ 0.0525,  0.0504,  0.0045],\n                        [-0.0348, -0.0087, -0.0410]],\n              \n                       [[-0.0542, -0.0005,  0.0554],\n                        [ 0.0263, -0.0218,  0.0008],\n                        [-0.0525, -0.0520, -0.0582]],\n              \n                       ...,\n              \n                       [[-0.0109,  0.0370,  0.0416],\n                        [ 0.0005, -0.0202, -0.0146],\n                        [ 0.0190, -0.0275,  0.0478]],\n              \n                       [[ 0.0297,  0.0242, -0.0551],\n                        [ 0.0079, -0.0243, -0.0139],\n                        [ 0.0292, -0.0032,  0.0137]],\n              \n                       [[-0.0005, -0.0246, -0.0134],\n                        [-0.0489, -0.0166, -0.0169],\n                        [ 0.0230,  0.0463, -0.0037]]]], device='cuda:0')),\n             ('conv2.0.bias',\n              tensor([ 0.0420, -0.0370, -0.0576,  0.0043,  0.0015,  0.0366, -0.0030, -0.0025,\n                      -0.0172,  0.0415, -0.0052,  0.0444, -0.0114,  0.0144,  0.0065,  0.0561,\n                      -0.0109, -0.0527, -0.0207, -0.0334,  0.0469,  0.0223, -0.0299, -0.0507,\n                       0.0422,  0.0424,  0.0237,  0.0334, -0.0377, -0.0018,  0.0191,  0.0436],\n                     device='cuda:0')),\n             ('conv2.2.weight',\n              tensor([[[[ 1.7357e-02, -2.6854e-02, -4.2758e-02],\n                        [ 5.3192e-02,  4.3668e-03, -2.6304e-03],\n                        [-2.5591e-02, -4.7469e-02,  2.5486e-02]],\n              \n                       [[-2.6409e-02, -1.8676e-02,  1.2110e-02],\n                        [ 2.9048e-02,  4.3502e-03,  1.2345e-02],\n                        [-4.3958e-02, -1.6507e-02, -3.5387e-02]],\n              \n                       [[-7.2599e-03,  3.0330e-02, -3.3335e-02],\n                        [ 2.5341e-02, -1.2013e-02, -1.0272e-02],\n                        [ 2.9166e-03,  1.5133e-02,  7.9722e-04]],\n              \n                       ...,\n              \n                       [[-3.0715e-02, -4.5693e-02, -2.0429e-02],\n                        [-2.1028e-02, -5.8731e-02,  5.1841e-02],\n                        [-2.2672e-02,  2.1338e-02, -4.3603e-02]],\n              \n                       [[ 5.4890e-02,  4.2519e-03,  1.7385e-02],\n                        [-3.9264e-02,  3.0646e-03,  1.2356e-02],\n                        [ 6.3747e-03,  5.7935e-02, -2.5932e-02]],\n              \n                       [[-4.9929e-02, -5.1403e-02,  5.8917e-02],\n                        [-4.5181e-02,  2.1130e-02, -9.7128e-03],\n                        [-2.5762e-03,  1.0575e-02, -1.9632e-02]]],\n              \n              \n                      [[[ 1.4895e-02, -1.4424e-02, -2.1455e-02],\n                        [ 3.6862e-02,  1.7406e-02, -5.1340e-02],\n                        [-2.3613e-02, -4.6745e-02,  4.2186e-02]],\n              \n                       [[ 2.4339e-02,  3.5123e-02, -2.4025e-02],\n                        [ 8.1095e-03, -5.6267e-02, -3.4033e-02],\n                        [-3.2321e-02, -3.1037e-02, -3.2797e-02]],\n              \n                       [[ 2.0706e-02, -4.9490e-02,  4.8934e-02],\n                        [-8.9307e-03, -3.8820e-02, -1.2900e-02],\n                        [-1.7233e-02, -3.8492e-02, -2.1764e-02]],\n              \n                       ...,\n              \n                       [[-7.0494e-03, -2.6016e-02,  3.0780e-02],\n                        [-2.1736e-02, -3.3774e-02,  1.5679e-02],\n                        [-1.0011e-02, -5.5824e-02,  2.7131e-02]],\n              \n                       [[-3.2294e-02,  1.7820e-02, -6.4517e-03],\n                        [ 9.2842e-03,  5.0304e-02, -8.1521e-03],\n                        [ 1.1980e-02, -4.7030e-02,  1.4843e-02]],\n              \n                       [[-3.7236e-02,  2.7234e-02, -2.8376e-02],\n                        [-5.8060e-02, -2.0999e-02, -2.8174e-02],\n                        [ 2.4884e-02,  4.5286e-02, -2.2160e-03]]],\n              \n              \n                      [[[ 2.6551e-02, -3.9817e-03,  4.8522e-02],\n                        [-7.7016e-04, -3.6759e-02,  4.6764e-02],\n                        [-4.6076e-02,  5.1630e-02,  2.1577e-02]],\n              \n                       [[ 5.0047e-02, -2.9209e-02,  3.9385e-02],\n                        [-7.8573e-03, -3.7312e-02,  3.7546e-02],\n                        [ 3.2153e-02,  1.1796e-02, -1.6134e-02]],\n              \n                       [[ 4.8793e-02,  4.1004e-03, -4.8945e-03],\n                        [ 9.3771e-03, -3.8039e-02, -3.4578e-02],\n                        [ 3.2302e-02,  2.4713e-03,  3.7773e-02]],\n              \n                       ...,\n              \n                       [[-4.5528e-03,  3.4371e-02, -5.7255e-04],\n                        [-1.0828e-02, -4.1399e-03,  2.6131e-02],\n                        [-1.9925e-02, -2.1838e-02, -2.6008e-02]],\n              \n                       [[-4.5738e-02,  9.9376e-03, -5.1182e-03],\n                        [-4.0113e-02, -2.4021e-02,  3.4040e-02],\n                        [-4.6521e-02,  3.8015e-02, -3.9748e-02]],\n              \n                       [[ 5.2174e-02, -5.0036e-02,  5.7655e-02],\n                        [ 3.3300e-02,  4.0593e-02, -3.1349e-03],\n                        [ 3.6471e-02, -3.7978e-02, -1.8914e-02]]],\n              \n              \n                      ...,\n              \n              \n                      [[[-3.5962e-02, -8.4404e-03,  2.6609e-02],\n                        [-4.3019e-02, -5.0007e-03,  4.1172e-02],\n                        [-1.0909e-02, -5.6315e-02, -1.5305e-02]],\n              \n                       [[ 2.0890e-02, -1.8690e-02, -1.9982e-02],\n                        [-1.3525e-02,  2.8199e-02,  5.3664e-02],\n                        [ 5.3352e-03,  1.4802e-02,  1.6731e-02]],\n              \n                       [[-2.0027e-02,  4.9408e-02, -4.1734e-02],\n                        [ 2.9621e-03, -4.6991e-03,  3.7221e-02],\n                        [ 2.0128e-02, -4.4666e-02,  5.2676e-02]],\n              \n                       ...,\n              \n                       [[-2.9167e-02,  3.3491e-02,  5.5904e-02],\n                        [ 5.3262e-02, -3.6594e-02, -3.9194e-03],\n                        [-2.1444e-02,  2.6733e-02,  1.2977e-02]],\n              \n                       [[ 1.1441e-02, -4.1682e-02,  5.4020e-02],\n                        [ 3.8118e-02, -3.6735e-02,  1.9404e-02],\n                        [ 7.2893e-04,  2.3570e-02,  4.1464e-02]],\n              \n                       [[ 1.2129e-03,  5.4353e-02,  3.9610e-02],\n                        [-3.1220e-03,  5.8246e-02, -2.0695e-02],\n                        [-4.9239e-02, -3.9724e-02, -3.7460e-02]]],\n              \n              \n                      [[[ 5.3306e-02,  2.3760e-02, -4.5427e-02],\n                        [ 5.7061e-02, -3.4720e-02,  1.5946e-06],\n                        [ 9.5133e-03,  4.6664e-02,  2.9486e-02]],\n              \n                       [[ 4.0255e-02,  8.2550e-03,  1.7619e-02],\n                        [-5.3124e-02, -4.8975e-02,  4.1367e-02],\n                        [ 4.9558e-02, -5.6709e-02,  3.3567e-02]],\n              \n                       [[ 4.6728e-02, -3.8028e-02, -4.7194e-02],\n                        [ 2.0204e-02, -1.7227e-03, -4.0892e-02],\n                        [-7.7420e-03, -2.6174e-02, -1.2155e-02]],\n              \n                       ...,\n              \n                       [[-6.8105e-04, -2.5732e-04,  4.2219e-02],\n                        [-8.9402e-03, -5.7800e-02, -2.4543e-02],\n                        [-5.7411e-02, -4.1788e-02, -7.7193e-03]],\n              \n                       [[ 4.5741e-02, -4.9110e-04, -4.4397e-02],\n                        [-5.0074e-02,  4.3274e-02, -5.8569e-02],\n                        [ 1.5225e-03, -1.6162e-02,  1.6987e-02]],\n              \n                       [[-5.2231e-03,  3.1497e-02,  7.3569e-03],\n                        [-5.1673e-02, -2.0066e-02,  4.3682e-02],\n                        [ 3.3393e-02, -1.1965e-02, -2.6387e-02]]],\n              \n              \n                      [[[ 2.4821e-02,  3.7624e-02, -5.1354e-02],\n                        [-4.5319e-02,  2.8038e-02, -5.8842e-02],\n                        [ 1.1741e-02, -5.3346e-02,  5.6383e-02]],\n              \n                       [[-4.8928e-02, -2.3546e-03,  5.6247e-02],\n                        [-3.3812e-03, -3.7512e-02,  1.4605e-02],\n                        [-5.6080e-02, -8.5762e-03,  4.0242e-02]],\n              \n                       [[-3.6878e-02, -8.5065e-03,  1.4408e-02],\n                        [-2.6518e-02, -5.6055e-02,  2.1446e-02],\n                        [-4.0248e-02,  1.7220e-02, -1.4885e-02]],\n              \n                       ...,\n              \n                       [[ 1.7931e-02, -4.5684e-02,  8.0094e-03],\n                        [ 2.5370e-02,  3.6397e-02, -9.3424e-03],\n                        [ 5.6158e-02, -5.2128e-02, -9.2193e-03]],\n              \n                       [[ 3.2010e-02,  1.9979e-02, -5.1390e-02],\n                        [ 2.7565e-02,  3.8520e-02,  3.7902e-03],\n                        [-1.6709e-02, -5.6524e-02,  4.6573e-03]],\n              \n                       [[ 7.3883e-04, -1.0191e-02, -5.2013e-03],\n                        [ 5.6183e-02, -9.7102e-03,  2.7414e-02],\n                        [ 4.1389e-02, -1.8844e-02,  4.8252e-02]]]], device='cuda:0')),\n             ('conv2.2.bias',\n              tensor([-0.0431,  0.0479,  0.0366,  0.0500, -0.0346, -0.0055, -0.0201, -0.0061,\n                      -0.0544,  0.0213, -0.0247, -0.0553,  0.0461, -0.0555, -0.0501, -0.0217,\n                       0.0378,  0.0490,  0.0315,  0.0252,  0.0395, -0.0067,  0.0541,  0.0122,\n                      -0.0195,  0.0178, -0.0444, -0.0572,  0.0466, -0.0364,  0.0309,  0.0580],\n                     device='cuda:0')),\n             ('classifier.1.weight',\n              tensor([[ 0.0017, -0.0101, -0.0056,  ...,  0.0058,  0.0013,  0.0071]],\n                     device='cuda:0')),\n             ('classifier.1.bias', tensor([0.0091], device='cuda:0'))])"
     },
     "execution_count": 175,
     "metadata": {},
     "output_type": "execute_result"
    }
   ],
   "source": [
    "model.state_dict()"
   ],
   "metadata": {
    "collapsed": false,
    "ExecuteTime": {
     "end_time": "2024-01-23T15:41:04.835214700Z",
     "start_time": "2024-01-23T15:41:04.683311200Z"
    }
   },
   "id": "6f282f395ffce6e",
   "execution_count": 175
  },
  {
   "cell_type": "code",
   "outputs": [
    {
     "data": {
      "text/plain": "tensor([[-0.0158]], device='cuda:0', grad_fn=<AddmmBackward0>)"
     },
     "execution_count": 176,
     "metadata": {},
     "output_type": "execute_result"
    }
   ],
   "source": [
    "# Find image dimensions for linear layer\n",
    "model(img.unsqueeze(0).to(device))"
   ],
   "metadata": {
    "collapsed": false,
    "ExecuteTime": {
     "end_time": "2024-01-23T15:41:04.847215300Z",
     "start_time": "2024-01-23T15:41:04.836214700Z"
    }
   },
   "id": "1f7714925bcc04ea",
   "execution_count": 176
  },
  {
   "cell_type": "code",
   "outputs": [],
   "source": [
    "from torchmetrics import Accuracy\n",
    "def train_epoch(model,data_loader,loss_fn,optimizer,device):\n",
    "    train_loss, train_acc = 0,0\n",
    "    accuracy = Accuracy(task=\"binary\").to(device)\n",
    "    model.train()\n",
    "    for batch, (X,y) in enumerate(data_loader):\n",
    "        X, y = X.to(device), y.to(device)\n",
    "        y_pred = model(X).squeeze(1)\n",
    "        batch_loss = loss_fn(y_pred, y.float())\n",
    "        train_loss += batch_loss\n",
    "        y_pred = (y_pred > 0.5).long()\n",
    "        train_acc += accuracy(y_pred, y)\n",
    "        optimizer.zero_grad()\n",
    "        batch_loss.backward()\n",
    "        optimizer.step()\n",
    "    train_loss /= len(data_loader)\n",
    "    train_acc /= len(data_loader)\n",
    "    print(f\"Train loss: {train_loss:.5f} | Train acc: {train_acc:.2f}%\")\n",
    "\n",
    "def test_epoch(model,data_loader,loss,optimizer,device):\n",
    "  test_loss, test_acc = 0, 0\n",
    "  model.eval()\n",
    "  accuracy = Accuracy(task=\"binary\").to(device)\n",
    "  with torch.inference_mode():\n",
    "    for X,y in test_dataloader:\n",
    "      X,y = X.to(device), y.unsqueeze(1).to(device)\n",
    "      test_pred = model(X)\n",
    "      test_loss += loss(test_pred,y.float())\n",
    "      test_pred = (test_pred > 0.5).long()\n",
    "      test_acc +=  accuracy(test_pred, y)\n",
    "    test_loss/=len(data_loader)\n",
    "    test_acc/=len(data_loader)\n",
    "  print(f\"\\nTest loss: {test_loss:.4f}, Test acc: {test_acc:.2f}% \\n\")\n"
   ],
   "metadata": {
    "collapsed": false,
    "ExecuteTime": {
     "end_time": "2024-01-23T15:41:04.853890600Z",
     "start_time": "2024-01-23T15:41:04.845214800Z"
    }
   },
   "id": "b1adfc67cf9b99bd",
   "execution_count": 177
  },
  {
   "cell_type": "code",
   "outputs": [
    {
     "data": {
      "text/plain": "  0%|          | 0/4 [00:00<?, ?it/s]",
      "application/vnd.jupyter.widget-view+json": {
       "version_major": 2,
       "version_minor": 0,
       "model_id": "621b3bd1e876424baefbff4ae074b6db"
      }
     },
     "metadata": {},
     "output_type": "display_data"
    },
    {
     "name": "stdout",
     "output_type": "stream",
     "text": [
      "Epoch 1\n",
      "-------------------------------\n",
      "Train loss: 0.49654 | Train acc: 0.76%\n"
     ]
    }
   ],
   "source": [
    "from tqdm.auto import tqdm\n",
    "\n",
    "loss = nn.BCEWithLogitsLoss()\n",
    "optimizer = torch.optim.Adam(model.parameters(), lr=0.001)\n",
    "epochs = 4\n",
    "\n",
    "for i in tqdm(range(epochs)):\n",
    "    print(f\"Epoch {i+1}\\n-------------------------------\")\n",
    "    train_epoch(model, train_dataloader, loss, optimizer, device)\n",
    "    test_epoch(model, test_dataloader, loss, optimizer, device)"
   ],
   "metadata": {
    "collapsed": false,
    "is_executing": true,
    "ExecuteTime": {
     "start_time": "2024-01-23T15:41:04.850214Z"
    }
   },
   "id": "18cefc9e4863a017",
   "execution_count": null
  },
  {
   "cell_type": "code",
   "outputs": [],
   "source": [
    "img, l = None, None\n",
    "for images, labels in train_dataloader:\n",
    "    img, l = images[0], labels[0]\n",
    "    break\n",
    "\n",
    "for batch, (X,y) in enumerate(train_dataloader):\n",
    "    print(X.shape)\n",
    "    print(y.shape)\n",
    "\n",
    "    break"
   ],
   "metadata": {
    "collapsed": false,
    "is_executing": true
   },
   "id": "1fb9fc8631e28182",
   "execution_count": null
  },
  {
   "cell_type": "code",
   "outputs": [],
   "source": [
    "torch.save(model.state_dict(), 'first_cnn.pth')"
   ],
   "metadata": {
    "collapsed": false,
    "is_executing": true
   },
   "id": "deea04de5a0bbe76",
   "execution_count": null
  },
  {
   "cell_type": "code",
   "outputs": [],
   "source": [
    "model = VictimCNNModelV0(3, 32, 1)  # Initialize a model with the same architecture\n",
    "model.load_state_dict(torch.load('first_cnn.pth'))\n",
    "model.to(device)  # Don't forget to move the model to the device"
   ],
   "metadata": {
    "collapsed": false,
    "is_executing": true
   },
   "id": "901970a998af0519",
   "execution_count": null
  },
  {
   "cell_type": "code",
   "outputs": [],
   "source": [
    "from torchvision.transforms import Compose, Resize, ToTensor\n",
    "from torchvision.datasets import ImageFolder\n",
    "from torch.utils.data import DataLoader\n",
    "import matplotlib.pyplot as plt\n",
    "import numpy as np\n",
    "import torch\n",
    "\n",
    "# Define the transformation\n",
    "transformation = Compose([\n",
    "    Resize((64, 64)),\n",
    "    ToTensor()\n",
    "])\n",
    "\n",
    "# Load the images from the test folder\n",
    "test_data_dir = \"./test\"  # Replace with your test folder path\n",
    "test_dataset = ImageFolder(root=test_data_dir, transform=transformation)\n",
    "\n",
    "# Create a DataLoader for the test dataset\n",
    "test_dataloader = DataLoader(test_dataset, batch_size=32, shuffle=False)\n",
    "# Load the trained model\n",
    "model = VictimCNNModelV0(3, 32, 1)  # Initialize a model with the same architecture\n",
    "model.load_state_dict(torch.load('first_cnn.pth'))\n",
    "model.to(device)  # Don't forget to move the model to the device\n",
    "model.eval()  # Set the model to evaluation mode\n",
    "\n",
    "\n",
    "# Define a function to unnormalize and plot an image\n",
    "def imshow(img):\n",
    "    img = img / 2 + 0.5  # unnormalize\n",
    "    npimg = img.numpy()\n",
    "    plt.imshow(np.transpose(npimg, (1, 2, 0)))\n",
    "    plt.show()\n",
    "\n",
    "# Predict the labels for the test images\n",
    "for images, labels in test_dataloader:\n",
    "    images = images.to(device)\n",
    "    outputs = torch.sigmoid(model(images))\n",
    "    predicted = (outputs > 0.5).long()\n",
    "    \n",
    "    # Convert tensors to numpy arrays for visualization\n",
    "    predicted_np = predicted.cpu().numpy()\n",
    "    labels_np = labels.numpy()\n",
    "    \n",
    "    # Plot the images and display the actual and predicted classes\n",
    "    for i in range(len(images)):\n",
    "        print(f\"Actual class: {labels_np[i]} | Predicted class: {predicted_np[i]}\")\n",
    "        imshow(images[i].cpu())"
   ],
   "metadata": {
    "collapsed": false,
    "is_executing": true
   },
   "id": "6cde2151b7af0690",
   "execution_count": null
  },
  {
   "cell_type": "code",
   "outputs": [],
   "source": [],
   "metadata": {
    "collapsed": false,
    "is_executing": true
   },
   "id": "b0d006f4ee4dba81",
   "execution_count": null
  },
  {
   "cell_type": "code",
   "outputs": [],
   "source": [],
   "metadata": {
    "collapsed": false,
    "is_executing": true
   },
   "id": "44d0cb165ca1387e",
   "execution_count": null
  },
  {
   "cell_type": "code",
   "outputs": [],
   "source": [],
   "metadata": {
    "collapsed": false,
    "is_executing": true
   },
   "id": "4b828f7ee2350140",
   "execution_count": null
  }
 ],
 "metadata": {
  "kernelspec": {
   "display_name": "Python 3",
   "language": "python",
   "name": "python3"
  },
  "language_info": {
   "codemirror_mode": {
    "name": "ipython",
    "version": 2
   },
   "file_extension": ".py",
   "mimetype": "text/x-python",
   "name": "python",
   "nbconvert_exporter": "python",
   "pygments_lexer": "ipython2",
   "version": "2.7.6"
  }
 },
 "nbformat": 4,
 "nbformat_minor": 5
}
